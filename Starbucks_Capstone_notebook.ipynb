{
 "cells": [
  {
   "cell_type": "markdown",
   "metadata": {},
   "source": [
    "# Data Scientist Nanodegree\n",
    "\n",
    "# Project: Starbucks Capstone Challenge\n",
    "\n",
    "### Laila Hussain Alqawain\n",
    "\n",
    "### Introduction\n",
    "\n",
    "This data set contains simulated data that mimics customer behavior on the Starbucks rewards mobile app. In this project, I will understand the data and try to provide a solution for how Starbucks should deal with customers, which promotions should provide and to whom? instead of providing offers for all customer which that make the customers who completed offers feel better and may push them to be customers for a long time.<br>\n",
    "\n",
    "I will combine transaction, demographic and offer data to determine which demographic groups respond best to which offer type.<br>"
   ]
  },
  {
   "cell_type": "markdown",
   "metadata": {},
   "source": [
    "### Problem Statement\n",
    "The problem is Starbucks give each customer an offer, but there are some customers didn't use the offer or didn't view the offer and that is the problem. So I would like to make an analysis of Starbucks datasets to find which kind of people or their demography have an offer and they completed the offer. This segment of people should give them attention and send to them offers. Also, I would like to find which kind of offer (BOGO or Discount or Informational) do people more like or use more.The solution will reduce the overhead cost of sending offers to any customer. For that, I will accuracy metric to evaluate some supervised learning models. <br> "
   ]
  },
  {
   "cell_type": "markdown",
   "metadata": {},
   "source": [
    "# Business Understanding\n",
    "\n",
    "In this project, I will analysis the datasets provided by answering these questions  which help to make a decision to solve the problem with visualizations and modeling the dataset:<br>\n",
    "* Q1: What is the distribution of gender?<br>\n",
    "* Q2: What is the distribution of income?<br>\n",
    "* Q3: What is the distribution of income by gender?<br>\n",
    "* Q4: Which the most year that the customers created an app account?<br>\n",
    "* Q5: What are the most and the least common event?<br>\n",
    "* Q6: What are the most and the least common offer type?<br>\n",
    "* Q7: What are the most and the least common offer type by offer completed?<br>\n",
    "* Q8: What is the distribution of gender by offer type?<br>\n",
    "* Q9: What is the distribution of gender by event?<br>\n",
    "\n",
    "Then, I will calculate the accuracy metrics for some of the models on the training and testing datasets and improve the best one. I selected accuracy due to the target variable classes in the data are tied and I would like to find the ratio of the total number of predictions that were correct. <br>"
   ]
  },
  {
   "cell_type": "markdown",
   "metadata": {},
   "source": [
    "# Data Understanding\n",
    "\n",
    "The data is contained in three files:<br>\n",
    "\n",
    "* portfolio.json - containing offer ids and meta data about each offer (duration, type, etc.)<br>\n",
    "* profile.json - demographic data for each customer<br>\n",
    "* transcript.json - records for transactions, offers received, offers viewed, and offers completed<br>"
   ]
  },
  {
   "cell_type": "code",
   "execution_count": 1,
   "metadata": {},
   "outputs": [],
   "source": [
    "# Import necessary libraries\n",
    "import pandas as pd\n",
    "import numpy as np\n",
    "import math\n",
    "import json\n",
    "from sklearn.preprocessing import MultiLabelBinarizer\n",
    "import matplotlib.pyplot as plt\n",
    "import seaborn as sns\n",
    "% matplotlib inline\n",
    "\n",
    "# read in the json files\n",
    "portfolio = pd.read_json('data/portfolio.json', orient='records', lines=True)\n",
    "profile = pd.read_json('data/profile.json', orient='records', lines=True)\n",
    "transcript = pd.read_json('data/transcript.json', orient='records', lines=True)"
   ]
  },
  {
   "cell_type": "markdown",
   "metadata": {},
   "source": [
    "**portfolio.json**\n",
    "* id (string) - offer id\n",
    "* offer_type (string) - type of offer ie BOGO, discount, informational\n",
    "* difficulty (int) - minimum required spend to complete an offer\n",
    "* reward (int) - reward given for completing an offer\n",
    "* duration (int) - time for offer to be open, in days\n",
    "* channels (list of strings)"
   ]
  },
  {
   "cell_type": "code",
   "execution_count": 2,
   "metadata": {},
   "outputs": [
    {
     "data": {
      "text/html": [
       "<div>\n",
       "<style scoped>\n",
       "    .dataframe tbody tr th:only-of-type {\n",
       "        vertical-align: middle;\n",
       "    }\n",
       "\n",
       "    .dataframe tbody tr th {\n",
       "        vertical-align: top;\n",
       "    }\n",
       "\n",
       "    .dataframe thead th {\n",
       "        text-align: right;\n",
       "    }\n",
       "</style>\n",
       "<table border=\"1\" class=\"dataframe\">\n",
       "  <thead>\n",
       "    <tr style=\"text-align: right;\">\n",
       "      <th></th>\n",
       "      <th>channels</th>\n",
       "      <th>difficulty</th>\n",
       "      <th>duration</th>\n",
       "      <th>id</th>\n",
       "      <th>offer_type</th>\n",
       "      <th>reward</th>\n",
       "    </tr>\n",
       "  </thead>\n",
       "  <tbody>\n",
       "    <tr>\n",
       "      <th>0</th>\n",
       "      <td>[email, mobile, social]</td>\n",
       "      <td>10</td>\n",
       "      <td>7</td>\n",
       "      <td>ae264e3637204a6fb9bb56bc8210ddfd</td>\n",
       "      <td>bogo</td>\n",
       "      <td>10</td>\n",
       "    </tr>\n",
       "    <tr>\n",
       "      <th>1</th>\n",
       "      <td>[web, email, mobile, social]</td>\n",
       "      <td>10</td>\n",
       "      <td>5</td>\n",
       "      <td>4d5c57ea9a6940dd891ad53e9dbe8da0</td>\n",
       "      <td>bogo</td>\n",
       "      <td>10</td>\n",
       "    </tr>\n",
       "    <tr>\n",
       "      <th>2</th>\n",
       "      <td>[web, email, mobile]</td>\n",
       "      <td>0</td>\n",
       "      <td>4</td>\n",
       "      <td>3f207df678b143eea3cee63160fa8bed</td>\n",
       "      <td>informational</td>\n",
       "      <td>0</td>\n",
       "    </tr>\n",
       "    <tr>\n",
       "      <th>3</th>\n",
       "      <td>[web, email, mobile]</td>\n",
       "      <td>5</td>\n",
       "      <td>7</td>\n",
       "      <td>9b98b8c7a33c4b65b9aebfe6a799e6d9</td>\n",
       "      <td>bogo</td>\n",
       "      <td>5</td>\n",
       "    </tr>\n",
       "    <tr>\n",
       "      <th>4</th>\n",
       "      <td>[web, email]</td>\n",
       "      <td>20</td>\n",
       "      <td>10</td>\n",
       "      <td>0b1e1539f2cc45b7b9fa7c272da2e1d7</td>\n",
       "      <td>discount</td>\n",
       "      <td>5</td>\n",
       "    </tr>\n",
       "  </tbody>\n",
       "</table>\n",
       "</div>"
      ],
      "text/plain": [
       "                       channels  difficulty  duration  \\\n",
       "0       [email, mobile, social]          10         7   \n",
       "1  [web, email, mobile, social]          10         5   \n",
       "2          [web, email, mobile]           0         4   \n",
       "3          [web, email, mobile]           5         7   \n",
       "4                  [web, email]          20        10   \n",
       "\n",
       "                                 id     offer_type  reward  \n",
       "0  ae264e3637204a6fb9bb56bc8210ddfd           bogo      10  \n",
       "1  4d5c57ea9a6940dd891ad53e9dbe8da0           bogo      10  \n",
       "2  3f207df678b143eea3cee63160fa8bed  informational       0  \n",
       "3  9b98b8c7a33c4b65b9aebfe6a799e6d9           bogo       5  \n",
       "4  0b1e1539f2cc45b7b9fa7c272da2e1d7       discount       5  "
      ]
     },
     "execution_count": 2,
     "metadata": {},
     "output_type": "execute_result"
    }
   ],
   "source": [
    "# Print the first five rows of portfolio\n",
    "portfolio.head()"
   ]
  },
  {
   "cell_type": "code",
   "execution_count": 3,
   "metadata": {},
   "outputs": [
    {
     "data": {
      "text/plain": [
       "(10, 6)"
      ]
     },
     "execution_count": 3,
     "metadata": {},
     "output_type": "execute_result"
    }
   ],
   "source": [
    "# Print number of rows and columns of portfolio\n",
    "portfolio.shape"
   ]
  },
  {
   "cell_type": "code",
   "execution_count": 4,
   "metadata": {},
   "outputs": [
    {
     "data": {
      "text/html": [
       "<div>\n",
       "<style scoped>\n",
       "    .dataframe tbody tr th:only-of-type {\n",
       "        vertical-align: middle;\n",
       "    }\n",
       "\n",
       "    .dataframe tbody tr th {\n",
       "        vertical-align: top;\n",
       "    }\n",
       "\n",
       "    .dataframe thead th {\n",
       "        text-align: right;\n",
       "    }\n",
       "</style>\n",
       "<table border=\"1\" class=\"dataframe\">\n",
       "  <thead>\n",
       "    <tr style=\"text-align: right;\">\n",
       "      <th></th>\n",
       "      <th>difficulty</th>\n",
       "      <th>duration</th>\n",
       "      <th>reward</th>\n",
       "    </tr>\n",
       "  </thead>\n",
       "  <tbody>\n",
       "    <tr>\n",
       "      <th>count</th>\n",
       "      <td>10.000000</td>\n",
       "      <td>10.000000</td>\n",
       "      <td>10.000000</td>\n",
       "    </tr>\n",
       "    <tr>\n",
       "      <th>mean</th>\n",
       "      <td>7.700000</td>\n",
       "      <td>6.500000</td>\n",
       "      <td>4.200000</td>\n",
       "    </tr>\n",
       "    <tr>\n",
       "      <th>std</th>\n",
       "      <td>5.831905</td>\n",
       "      <td>2.321398</td>\n",
       "      <td>3.583915</td>\n",
       "    </tr>\n",
       "    <tr>\n",
       "      <th>min</th>\n",
       "      <td>0.000000</td>\n",
       "      <td>3.000000</td>\n",
       "      <td>0.000000</td>\n",
       "    </tr>\n",
       "    <tr>\n",
       "      <th>25%</th>\n",
       "      <td>5.000000</td>\n",
       "      <td>5.000000</td>\n",
       "      <td>2.000000</td>\n",
       "    </tr>\n",
       "    <tr>\n",
       "      <th>50%</th>\n",
       "      <td>8.500000</td>\n",
       "      <td>7.000000</td>\n",
       "      <td>4.000000</td>\n",
       "    </tr>\n",
       "    <tr>\n",
       "      <th>75%</th>\n",
       "      <td>10.000000</td>\n",
       "      <td>7.000000</td>\n",
       "      <td>5.000000</td>\n",
       "    </tr>\n",
       "    <tr>\n",
       "      <th>max</th>\n",
       "      <td>20.000000</td>\n",
       "      <td>10.000000</td>\n",
       "      <td>10.000000</td>\n",
       "    </tr>\n",
       "  </tbody>\n",
       "</table>\n",
       "</div>"
      ],
      "text/plain": [
       "       difficulty   duration     reward\n",
       "count   10.000000  10.000000  10.000000\n",
       "mean     7.700000   6.500000   4.200000\n",
       "std      5.831905   2.321398   3.583915\n",
       "min      0.000000   3.000000   0.000000\n",
       "25%      5.000000   5.000000   2.000000\n",
       "50%      8.500000   7.000000   4.000000\n",
       "75%     10.000000   7.000000   5.000000\n",
       "max     20.000000  10.000000  10.000000"
      ]
     },
     "execution_count": 4,
     "metadata": {},
     "output_type": "execute_result"
    }
   ],
   "source": [
    "# Print a descriptive statistics of portfolio\n",
    "portfolio.describe()"
   ]
  },
  {
   "cell_type": "markdown",
   "metadata": {},
   "source": [
    "**profile.json**\n",
    "* age (int) - age of the customer \n",
    "* became_member_on (int) - date when customer created an app account\n",
    "* gender (str) - gender of the customer (note some entries contain 'O' for other rather than M or F)\n",
    "* id (str) - customer id\n",
    "* income (float) - customer's income"
   ]
  },
  {
   "cell_type": "code",
   "execution_count": 5,
   "metadata": {},
   "outputs": [
    {
     "data": {
      "text/html": [
       "<div>\n",
       "<style scoped>\n",
       "    .dataframe tbody tr th:only-of-type {\n",
       "        vertical-align: middle;\n",
       "    }\n",
       "\n",
       "    .dataframe tbody tr th {\n",
       "        vertical-align: top;\n",
       "    }\n",
       "\n",
       "    .dataframe thead th {\n",
       "        text-align: right;\n",
       "    }\n",
       "</style>\n",
       "<table border=\"1\" class=\"dataframe\">\n",
       "  <thead>\n",
       "    <tr style=\"text-align: right;\">\n",
       "      <th></th>\n",
       "      <th>age</th>\n",
       "      <th>became_member_on</th>\n",
       "      <th>gender</th>\n",
       "      <th>id</th>\n",
       "      <th>income</th>\n",
       "    </tr>\n",
       "  </thead>\n",
       "  <tbody>\n",
       "    <tr>\n",
       "      <th>0</th>\n",
       "      <td>118</td>\n",
       "      <td>20170212</td>\n",
       "      <td>None</td>\n",
       "      <td>68be06ca386d4c31939f3a4f0e3dd783</td>\n",
       "      <td>NaN</td>\n",
       "    </tr>\n",
       "    <tr>\n",
       "      <th>1</th>\n",
       "      <td>55</td>\n",
       "      <td>20170715</td>\n",
       "      <td>F</td>\n",
       "      <td>0610b486422d4921ae7d2bf64640c50b</td>\n",
       "      <td>112000.0</td>\n",
       "    </tr>\n",
       "    <tr>\n",
       "      <th>2</th>\n",
       "      <td>118</td>\n",
       "      <td>20180712</td>\n",
       "      <td>None</td>\n",
       "      <td>38fe809add3b4fcf9315a9694bb96ff5</td>\n",
       "      <td>NaN</td>\n",
       "    </tr>\n",
       "    <tr>\n",
       "      <th>3</th>\n",
       "      <td>75</td>\n",
       "      <td>20170509</td>\n",
       "      <td>F</td>\n",
       "      <td>78afa995795e4d85b5d9ceeca43f5fef</td>\n",
       "      <td>100000.0</td>\n",
       "    </tr>\n",
       "    <tr>\n",
       "      <th>4</th>\n",
       "      <td>118</td>\n",
       "      <td>20170804</td>\n",
       "      <td>None</td>\n",
       "      <td>a03223e636434f42ac4c3df47e8bac43</td>\n",
       "      <td>NaN</td>\n",
       "    </tr>\n",
       "  </tbody>\n",
       "</table>\n",
       "</div>"
      ],
      "text/plain": [
       "   age  became_member_on gender                                id    income\n",
       "0  118          20170212   None  68be06ca386d4c31939f3a4f0e3dd783       NaN\n",
       "1   55          20170715      F  0610b486422d4921ae7d2bf64640c50b  112000.0\n",
       "2  118          20180712   None  38fe809add3b4fcf9315a9694bb96ff5       NaN\n",
       "3   75          20170509      F  78afa995795e4d85b5d9ceeca43f5fef  100000.0\n",
       "4  118          20170804   None  a03223e636434f42ac4c3df47e8bac43       NaN"
      ]
     },
     "execution_count": 5,
     "metadata": {},
     "output_type": "execute_result"
    }
   ],
   "source": [
    "# Print the first five rows of profile\n",
    "profile.head()"
   ]
  },
  {
   "cell_type": "code",
   "execution_count": 6,
   "metadata": {},
   "outputs": [
    {
     "data": {
      "text/plain": [
       "(17000, 5)"
      ]
     },
     "execution_count": 6,
     "metadata": {},
     "output_type": "execute_result"
    }
   ],
   "source": [
    "# Print number of rows and columns of profile\n",
    "profile.shape"
   ]
  },
  {
   "cell_type": "code",
   "execution_count": 7,
   "metadata": {},
   "outputs": [
    {
     "data": {
      "text/html": [
       "<div>\n",
       "<style scoped>\n",
       "    .dataframe tbody tr th:only-of-type {\n",
       "        vertical-align: middle;\n",
       "    }\n",
       "\n",
       "    .dataframe tbody tr th {\n",
       "        vertical-align: top;\n",
       "    }\n",
       "\n",
       "    .dataframe thead th {\n",
       "        text-align: right;\n",
       "    }\n",
       "</style>\n",
       "<table border=\"1\" class=\"dataframe\">\n",
       "  <thead>\n",
       "    <tr style=\"text-align: right;\">\n",
       "      <th></th>\n",
       "      <th>age</th>\n",
       "      <th>became_member_on</th>\n",
       "      <th>income</th>\n",
       "    </tr>\n",
       "  </thead>\n",
       "  <tbody>\n",
       "    <tr>\n",
       "      <th>count</th>\n",
       "      <td>17000.000000</td>\n",
       "      <td>1.700000e+04</td>\n",
       "      <td>14825.000000</td>\n",
       "    </tr>\n",
       "    <tr>\n",
       "      <th>mean</th>\n",
       "      <td>62.531412</td>\n",
       "      <td>2.016703e+07</td>\n",
       "      <td>65404.991568</td>\n",
       "    </tr>\n",
       "    <tr>\n",
       "      <th>std</th>\n",
       "      <td>26.738580</td>\n",
       "      <td>1.167750e+04</td>\n",
       "      <td>21598.299410</td>\n",
       "    </tr>\n",
       "    <tr>\n",
       "      <th>min</th>\n",
       "      <td>18.000000</td>\n",
       "      <td>2.013073e+07</td>\n",
       "      <td>30000.000000</td>\n",
       "    </tr>\n",
       "    <tr>\n",
       "      <th>25%</th>\n",
       "      <td>45.000000</td>\n",
       "      <td>2.016053e+07</td>\n",
       "      <td>49000.000000</td>\n",
       "    </tr>\n",
       "    <tr>\n",
       "      <th>50%</th>\n",
       "      <td>58.000000</td>\n",
       "      <td>2.017080e+07</td>\n",
       "      <td>64000.000000</td>\n",
       "    </tr>\n",
       "    <tr>\n",
       "      <th>75%</th>\n",
       "      <td>73.000000</td>\n",
       "      <td>2.017123e+07</td>\n",
       "      <td>80000.000000</td>\n",
       "    </tr>\n",
       "    <tr>\n",
       "      <th>max</th>\n",
       "      <td>118.000000</td>\n",
       "      <td>2.018073e+07</td>\n",
       "      <td>120000.000000</td>\n",
       "    </tr>\n",
       "  </tbody>\n",
       "</table>\n",
       "</div>"
      ],
      "text/plain": [
       "                age  became_member_on         income\n",
       "count  17000.000000      1.700000e+04   14825.000000\n",
       "mean      62.531412      2.016703e+07   65404.991568\n",
       "std       26.738580      1.167750e+04   21598.299410\n",
       "min       18.000000      2.013073e+07   30000.000000\n",
       "25%       45.000000      2.016053e+07   49000.000000\n",
       "50%       58.000000      2.017080e+07   64000.000000\n",
       "75%       73.000000      2.017123e+07   80000.000000\n",
       "max      118.000000      2.018073e+07  120000.000000"
      ]
     },
     "execution_count": 7,
     "metadata": {},
     "output_type": "execute_result"
    }
   ],
   "source": [
    "# Print a descriptive statistics of profile\n",
    "profile.describe()"
   ]
  },
  {
   "cell_type": "markdown",
   "metadata": {},
   "source": [
    "**transcript.json**\n",
    "* event (str) - record description (ie transaction, offer received, offer viewed, etc.)\n",
    "* person (str) - customer id\n",
    "* time (int) - time in hours since start of test. The data begins at time t=0\n",
    "* value - (dict of strings) - either an offer id or transaction amount depending on the record"
   ]
  },
  {
   "cell_type": "code",
   "execution_count": 8,
   "metadata": {},
   "outputs": [
    {
     "data": {
      "text/html": [
       "<div>\n",
       "<style scoped>\n",
       "    .dataframe tbody tr th:only-of-type {\n",
       "        vertical-align: middle;\n",
       "    }\n",
       "\n",
       "    .dataframe tbody tr th {\n",
       "        vertical-align: top;\n",
       "    }\n",
       "\n",
       "    .dataframe thead th {\n",
       "        text-align: right;\n",
       "    }\n",
       "</style>\n",
       "<table border=\"1\" class=\"dataframe\">\n",
       "  <thead>\n",
       "    <tr style=\"text-align: right;\">\n",
       "      <th></th>\n",
       "      <th>event</th>\n",
       "      <th>person</th>\n",
       "      <th>time</th>\n",
       "      <th>value</th>\n",
       "    </tr>\n",
       "  </thead>\n",
       "  <tbody>\n",
       "    <tr>\n",
       "      <th>0</th>\n",
       "      <td>offer received</td>\n",
       "      <td>78afa995795e4d85b5d9ceeca43f5fef</td>\n",
       "      <td>0</td>\n",
       "      <td>{'offer id': '9b98b8c7a33c4b65b9aebfe6a799e6d9'}</td>\n",
       "    </tr>\n",
       "    <tr>\n",
       "      <th>1</th>\n",
       "      <td>offer received</td>\n",
       "      <td>a03223e636434f42ac4c3df47e8bac43</td>\n",
       "      <td>0</td>\n",
       "      <td>{'offer id': '0b1e1539f2cc45b7b9fa7c272da2e1d7'}</td>\n",
       "    </tr>\n",
       "    <tr>\n",
       "      <th>2</th>\n",
       "      <td>offer received</td>\n",
       "      <td>e2127556f4f64592b11af22de27a7932</td>\n",
       "      <td>0</td>\n",
       "      <td>{'offer id': '2906b810c7d4411798c6938adc9daaa5'}</td>\n",
       "    </tr>\n",
       "    <tr>\n",
       "      <th>3</th>\n",
       "      <td>offer received</td>\n",
       "      <td>8ec6ce2a7e7949b1bf142def7d0e0586</td>\n",
       "      <td>0</td>\n",
       "      <td>{'offer id': 'fafdcd668e3743c1bb461111dcafc2a4'}</td>\n",
       "    </tr>\n",
       "    <tr>\n",
       "      <th>4</th>\n",
       "      <td>offer received</td>\n",
       "      <td>68617ca6246f4fbc85e91a2a49552598</td>\n",
       "      <td>0</td>\n",
       "      <td>{'offer id': '4d5c57ea9a6940dd891ad53e9dbe8da0'}</td>\n",
       "    </tr>\n",
       "  </tbody>\n",
       "</table>\n",
       "</div>"
      ],
      "text/plain": [
       "            event                            person  time  \\\n",
       "0  offer received  78afa995795e4d85b5d9ceeca43f5fef     0   \n",
       "1  offer received  a03223e636434f42ac4c3df47e8bac43     0   \n",
       "2  offer received  e2127556f4f64592b11af22de27a7932     0   \n",
       "3  offer received  8ec6ce2a7e7949b1bf142def7d0e0586     0   \n",
       "4  offer received  68617ca6246f4fbc85e91a2a49552598     0   \n",
       "\n",
       "                                              value  \n",
       "0  {'offer id': '9b98b8c7a33c4b65b9aebfe6a799e6d9'}  \n",
       "1  {'offer id': '0b1e1539f2cc45b7b9fa7c272da2e1d7'}  \n",
       "2  {'offer id': '2906b810c7d4411798c6938adc9daaa5'}  \n",
       "3  {'offer id': 'fafdcd668e3743c1bb461111dcafc2a4'}  \n",
       "4  {'offer id': '4d5c57ea9a6940dd891ad53e9dbe8da0'}  "
      ]
     },
     "execution_count": 8,
     "metadata": {},
     "output_type": "execute_result"
    }
   ],
   "source": [
    "# Print the first five rows of transcript\n",
    "transcript.head()"
   ]
  },
  {
   "cell_type": "code",
   "execution_count": 9,
   "metadata": {},
   "outputs": [
    {
     "data": {
      "text/plain": [
       "(306534, 4)"
      ]
     },
     "execution_count": 9,
     "metadata": {},
     "output_type": "execute_result"
    }
   ],
   "source": [
    "# Print number of rows and columns of transcript\n",
    "transcript.shape"
   ]
  },
  {
   "cell_type": "code",
   "execution_count": 10,
   "metadata": {},
   "outputs": [
    {
     "data": {
      "text/html": [
       "<div>\n",
       "<style scoped>\n",
       "    .dataframe tbody tr th:only-of-type {\n",
       "        vertical-align: middle;\n",
       "    }\n",
       "\n",
       "    .dataframe tbody tr th {\n",
       "        vertical-align: top;\n",
       "    }\n",
       "\n",
       "    .dataframe thead th {\n",
       "        text-align: right;\n",
       "    }\n",
       "</style>\n",
       "<table border=\"1\" class=\"dataframe\">\n",
       "  <thead>\n",
       "    <tr style=\"text-align: right;\">\n",
       "      <th></th>\n",
       "      <th>time</th>\n",
       "    </tr>\n",
       "  </thead>\n",
       "  <tbody>\n",
       "    <tr>\n",
       "      <th>count</th>\n",
       "      <td>306534.000000</td>\n",
       "    </tr>\n",
       "    <tr>\n",
       "      <th>mean</th>\n",
       "      <td>366.382940</td>\n",
       "    </tr>\n",
       "    <tr>\n",
       "      <th>std</th>\n",
       "      <td>200.326314</td>\n",
       "    </tr>\n",
       "    <tr>\n",
       "      <th>min</th>\n",
       "      <td>0.000000</td>\n",
       "    </tr>\n",
       "    <tr>\n",
       "      <th>25%</th>\n",
       "      <td>186.000000</td>\n",
       "    </tr>\n",
       "    <tr>\n",
       "      <th>50%</th>\n",
       "      <td>408.000000</td>\n",
       "    </tr>\n",
       "    <tr>\n",
       "      <th>75%</th>\n",
       "      <td>528.000000</td>\n",
       "    </tr>\n",
       "    <tr>\n",
       "      <th>max</th>\n",
       "      <td>714.000000</td>\n",
       "    </tr>\n",
       "  </tbody>\n",
       "</table>\n",
       "</div>"
      ],
      "text/plain": [
       "                time\n",
       "count  306534.000000\n",
       "mean      366.382940\n",
       "std       200.326314\n",
       "min         0.000000\n",
       "25%       186.000000\n",
       "50%       408.000000\n",
       "75%       528.000000\n",
       "max       714.000000"
      ]
     },
     "execution_count": 10,
     "metadata": {},
     "output_type": "execute_result"
    }
   ],
   "source": [
    "# Print a descriptive statistics of transcript\n",
    "transcript.describe()"
   ]
  },
  {
   "cell_type": "markdown",
   "metadata": {},
   "source": [
    "# Prepare Data\n",
    "### Portfolio"
   ]
  },
  {
   "cell_type": "code",
   "execution_count": 11,
   "metadata": {},
   "outputs": [
    {
     "data": {
      "text/html": [
       "<div>\n",
       "<style scoped>\n",
       "    .dataframe tbody tr th:only-of-type {\n",
       "        vertical-align: middle;\n",
       "    }\n",
       "\n",
       "    .dataframe tbody tr th {\n",
       "        vertical-align: top;\n",
       "    }\n",
       "\n",
       "    .dataframe thead th {\n",
       "        text-align: right;\n",
       "    }\n",
       "</style>\n",
       "<table border=\"1\" class=\"dataframe\">\n",
       "  <thead>\n",
       "    <tr style=\"text-align: right;\">\n",
       "      <th></th>\n",
       "      <th>difficulty</th>\n",
       "      <th>duration</th>\n",
       "      <th>id</th>\n",
       "      <th>offer_type</th>\n",
       "      <th>reward</th>\n",
       "      <th>email</th>\n",
       "      <th>mobile</th>\n",
       "      <th>social</th>\n",
       "      <th>web</th>\n",
       "    </tr>\n",
       "  </thead>\n",
       "  <tbody>\n",
       "    <tr>\n",
       "      <th>0</th>\n",
       "      <td>10</td>\n",
       "      <td>7</td>\n",
       "      <td>ae264e3637204a6fb9bb56bc8210ddfd</td>\n",
       "      <td>bogo</td>\n",
       "      <td>10</td>\n",
       "      <td>1</td>\n",
       "      <td>1</td>\n",
       "      <td>1</td>\n",
       "      <td>0</td>\n",
       "    </tr>\n",
       "    <tr>\n",
       "      <th>1</th>\n",
       "      <td>10</td>\n",
       "      <td>5</td>\n",
       "      <td>4d5c57ea9a6940dd891ad53e9dbe8da0</td>\n",
       "      <td>bogo</td>\n",
       "      <td>10</td>\n",
       "      <td>1</td>\n",
       "      <td>1</td>\n",
       "      <td>1</td>\n",
       "      <td>1</td>\n",
       "    </tr>\n",
       "    <tr>\n",
       "      <th>2</th>\n",
       "      <td>0</td>\n",
       "      <td>4</td>\n",
       "      <td>3f207df678b143eea3cee63160fa8bed</td>\n",
       "      <td>informational</td>\n",
       "      <td>0</td>\n",
       "      <td>1</td>\n",
       "      <td>1</td>\n",
       "      <td>0</td>\n",
       "      <td>1</td>\n",
       "    </tr>\n",
       "    <tr>\n",
       "      <th>3</th>\n",
       "      <td>5</td>\n",
       "      <td>7</td>\n",
       "      <td>9b98b8c7a33c4b65b9aebfe6a799e6d9</td>\n",
       "      <td>bogo</td>\n",
       "      <td>5</td>\n",
       "      <td>1</td>\n",
       "      <td>1</td>\n",
       "      <td>0</td>\n",
       "      <td>1</td>\n",
       "    </tr>\n",
       "    <tr>\n",
       "      <th>4</th>\n",
       "      <td>20</td>\n",
       "      <td>10</td>\n",
       "      <td>0b1e1539f2cc45b7b9fa7c272da2e1d7</td>\n",
       "      <td>discount</td>\n",
       "      <td>5</td>\n",
       "      <td>1</td>\n",
       "      <td>0</td>\n",
       "      <td>0</td>\n",
       "      <td>1</td>\n",
       "    </tr>\n",
       "    <tr>\n",
       "      <th>5</th>\n",
       "      <td>7</td>\n",
       "      <td>7</td>\n",
       "      <td>2298d6c36e964ae4a3e7e9706d1fb8c2</td>\n",
       "      <td>discount</td>\n",
       "      <td>3</td>\n",
       "      <td>1</td>\n",
       "      <td>1</td>\n",
       "      <td>1</td>\n",
       "      <td>1</td>\n",
       "    </tr>\n",
       "    <tr>\n",
       "      <th>6</th>\n",
       "      <td>10</td>\n",
       "      <td>10</td>\n",
       "      <td>fafdcd668e3743c1bb461111dcafc2a4</td>\n",
       "      <td>discount</td>\n",
       "      <td>2</td>\n",
       "      <td>1</td>\n",
       "      <td>1</td>\n",
       "      <td>1</td>\n",
       "      <td>1</td>\n",
       "    </tr>\n",
       "    <tr>\n",
       "      <th>7</th>\n",
       "      <td>0</td>\n",
       "      <td>3</td>\n",
       "      <td>5a8bc65990b245e5a138643cd4eb9837</td>\n",
       "      <td>informational</td>\n",
       "      <td>0</td>\n",
       "      <td>1</td>\n",
       "      <td>1</td>\n",
       "      <td>1</td>\n",
       "      <td>0</td>\n",
       "    </tr>\n",
       "    <tr>\n",
       "      <th>8</th>\n",
       "      <td>5</td>\n",
       "      <td>5</td>\n",
       "      <td>f19421c1d4aa40978ebb69ca19b0e20d</td>\n",
       "      <td>bogo</td>\n",
       "      <td>5</td>\n",
       "      <td>1</td>\n",
       "      <td>1</td>\n",
       "      <td>1</td>\n",
       "      <td>1</td>\n",
       "    </tr>\n",
       "    <tr>\n",
       "      <th>9</th>\n",
       "      <td>10</td>\n",
       "      <td>7</td>\n",
       "      <td>2906b810c7d4411798c6938adc9daaa5</td>\n",
       "      <td>discount</td>\n",
       "      <td>2</td>\n",
       "      <td>1</td>\n",
       "      <td>1</td>\n",
       "      <td>0</td>\n",
       "      <td>1</td>\n",
       "    </tr>\n",
       "  </tbody>\n",
       "</table>\n",
       "</div>"
      ],
      "text/plain": [
       "   difficulty  duration                                id     offer_type  \\\n",
       "0          10         7  ae264e3637204a6fb9bb56bc8210ddfd           bogo   \n",
       "1          10         5  4d5c57ea9a6940dd891ad53e9dbe8da0           bogo   \n",
       "2           0         4  3f207df678b143eea3cee63160fa8bed  informational   \n",
       "3           5         7  9b98b8c7a33c4b65b9aebfe6a799e6d9           bogo   \n",
       "4          20        10  0b1e1539f2cc45b7b9fa7c272da2e1d7       discount   \n",
       "5           7         7  2298d6c36e964ae4a3e7e9706d1fb8c2       discount   \n",
       "6          10        10  fafdcd668e3743c1bb461111dcafc2a4       discount   \n",
       "7           0         3  5a8bc65990b245e5a138643cd4eb9837  informational   \n",
       "8           5         5  f19421c1d4aa40978ebb69ca19b0e20d           bogo   \n",
       "9          10         7  2906b810c7d4411798c6938adc9daaa5       discount   \n",
       "\n",
       "   reward  email  mobile  social  web  \n",
       "0      10      1       1       1    0  \n",
       "1      10      1       1       1    1  \n",
       "2       0      1       1       0    1  \n",
       "3       5      1       1       0    1  \n",
       "4       5      1       0       0    1  \n",
       "5       3      1       1       1    1  \n",
       "6       2      1       1       1    1  \n",
       "7       0      1       1       1    0  \n",
       "8       5      1       1       1    1  \n",
       "9       2      1       1       0    1  "
      ]
     },
     "execution_count": 11,
     "metadata": {},
     "output_type": "execute_result"
    }
   ],
   "source": [
    "# Create columns for channels features (one-hot encoding) by using MultiLabelBinarizer\n",
    "mlb = MultiLabelBinarizer()\n",
    "res = pd.DataFrame(mlb.fit_transform(portfolio['channels']),\n",
    "                   columns=mlb.classes_,\n",
    "                   index=portfolio['channels'].index)\n",
    "\n",
    "# Drop channels column\n",
    "portfolio = portfolio.drop('channels', axis=1)\n",
    "portfolio = pd.concat([portfolio, res], axis=1, sort=False)\n",
    "portfolio"
   ]
  },
  {
   "cell_type": "markdown",
   "metadata": {},
   "source": [
    "### Profile"
   ]
  },
  {
   "cell_type": "code",
   "execution_count": 12,
   "metadata": {},
   "outputs": [
    {
     "data": {
      "text/plain": [
       "age                    0\n",
       "became_member_on       0\n",
       "gender              2175\n",
       "id                     0\n",
       "income              2175\n",
       "dtype: int64"
      ]
     },
     "execution_count": 12,
     "metadata": {},
     "output_type": "execute_result"
    }
   ],
   "source": [
    "# Check if there are any missing value in profile dataset\n",
    "profile.isna().sum()"
   ]
  },
  {
   "cell_type": "code",
   "execution_count": 13,
   "metadata": {},
   "outputs": [],
   "source": [
    "# Fill the missing value in gender column with NA\n",
    "profile['gender'].fillna('NA', inplace=True)\n",
    "\n",
    "# Fill the missing value in income column with mean of income\n",
    "profile['income'].fillna((profile['income'].mean()), inplace=True)"
   ]
  },
  {
   "cell_type": "code",
   "execution_count": 14,
   "metadata": {},
   "outputs": [
    {
     "data": {
      "text/plain": [
       "age                 0\n",
       "became_member_on    0\n",
       "gender              0\n",
       "id                  0\n",
       "income              0\n",
       "dtype: int64"
      ]
     },
     "execution_count": 14,
     "metadata": {},
     "output_type": "execute_result"
    }
   ],
   "source": [
    "# To ensure there are not any missing value in profile dataset\n",
    "profile.isna().sum()"
   ]
  },
  {
   "cell_type": "markdown",
   "metadata": {},
   "source": [
    "### Transcript"
   ]
  },
  {
   "cell_type": "code",
   "execution_count": 15,
   "metadata": {},
   "outputs": [
    {
     "data": {
      "text/plain": [
       "event     0\n",
       "person    0\n",
       "time      0\n",
       "value     0\n",
       "dtype: int64"
      ]
     },
     "execution_count": 15,
     "metadata": {},
     "output_type": "execute_result"
    }
   ],
   "source": [
    "# Check if there are any missing value in transcript dataset\n",
    "transcript.isna().sum()"
   ]
  },
  {
   "cell_type": "code",
   "execution_count": 16,
   "metadata": {},
   "outputs": [
    {
     "data": {
      "text/plain": [
       "{'offer id': '2298d6c36e964ae4a3e7e9706d1fb8c2'}                  14983\n",
       "{'offer id': 'fafdcd668e3743c1bb461111dcafc2a4'}                  14924\n",
       "{'offer id': '4d5c57ea9a6940dd891ad53e9dbe8da0'}                  14891\n",
       "{'offer id': 'f19421c1d4aa40978ebb69ca19b0e20d'}                  14835\n",
       "{'offer id': 'ae264e3637204a6fb9bb56bc8210ddfd'}                  14374\n",
       "{'offer id': '5a8bc65990b245e5a138643cd4eb9837'}                  14305\n",
       "{'offer id': '9b98b8c7a33c4b65b9aebfe6a799e6d9'}                  11848\n",
       "{'offer id': '3f207df678b143eea3cee63160fa8bed'}                  11761\n",
       "{'offer id': '2906b810c7d4411798c6938adc9daaa5'}                  11750\n",
       "{'offer id': '0b1e1539f2cc45b7b9fa7c272da2e1d7'}                  10331\n",
       "{'offer_id': 'fafdcd668e3743c1bb461111dcafc2a4', 'reward': 2}      5317\n",
       "{'offer_id': '2298d6c36e964ae4a3e7e9706d1fb8c2', 'reward': 3}      5156\n",
       "{'offer_id': '9b98b8c7a33c4b65b9aebfe6a799e6d9', 'reward': 5}      4354\n",
       "{'offer_id': 'f19421c1d4aa40978ebb69ca19b0e20d', 'reward': 5}      4296\n",
       "{'offer_id': '2906b810c7d4411798c6938adc9daaa5', 'reward': 2}      4017\n",
       "{'offer_id': 'ae264e3637204a6fb9bb56bc8210ddfd', 'reward': 10}     3688\n",
       "{'offer_id': '0b1e1539f2cc45b7b9fa7c272da2e1d7', 'reward': 5}      3420\n",
       "{'offer_id': '4d5c57ea9a6940dd891ad53e9dbe8da0', 'reward': 10}     3331\n",
       "{'amount': 0.05}                                                    431\n",
       "{'amount': 0.66}                                                    166\n",
       "{'amount': 1.18}                                                    165\n",
       "{'amount': 1.01}                                                    163\n",
       "{'amount': 1.23}                                                    161\n",
       "{'amount': 0.9}                                                     161\n",
       "{'amount': 0.53}                                                    159\n",
       "{'amount': 0.5}                                                     159\n",
       "{'amount': 1.19}                                                    159\n",
       "{'amount': 0.79}                                                    157\n",
       "{'amount': 1.5}                                                     156\n",
       "{'amount': 0.92}                                                    156\n",
       "                                                                  ...  \n",
       "{'amount': 49.73}                                                     1\n",
       "{'amount': 749.29}                                                    1\n",
       "{'amount': 83.03}                                                     1\n",
       "{'amount': 51.06}                                                     1\n",
       "{'amount': 53.4}                                                      1\n",
       "{'amount': 47.2}                                                      1\n",
       "{'amount': 1015.73}                                                   1\n",
       "{'amount': 40.83}                                                     1\n",
       "{'amount': 54.44}                                                     1\n",
       "{'amount': 39.82}                                                     1\n",
       "{'amount': 456.79}                                                    1\n",
       "{'amount': 49.82}                                                     1\n",
       "{'amount': 41.61}                                                     1\n",
       "{'amount': 619.63}                                                    1\n",
       "{'amount': 50.37}                                                     1\n",
       "{'amount': 45.76}                                                     1\n",
       "{'amount': 36.99}                                                     1\n",
       "{'amount': 773.21}                                                    1\n",
       "{'amount': 577.21}                                                    1\n",
       "{'amount': 37.3}                                                      1\n",
       "{'amount': 792.54}                                                    1\n",
       "{'amount': 49.38}                                                     1\n",
       "{'amount': 769.04}                                                    1\n",
       "{'amount': 384.03}                                                    1\n",
       "{'amount': 493.4}                                                     1\n",
       "{'amount': 439.14}                                                    1\n",
       "{'amount': 42.75}                                                     1\n",
       "{'amount': 650.75}                                                    1\n",
       "{'amount': 943.4}                                                     1\n",
       "{'amount': 44.21}                                                     1\n",
       "Name: value, Length: 5121, dtype: int64"
      ]
     },
     "execution_count": 16,
     "metadata": {},
     "output_type": "execute_result"
    }
   ],
   "source": [
    "# Print values and counts of value column\n",
    "transcript.value.value_counts()"
   ]
  },
  {
   "cell_type": "code",
   "execution_count": 17,
   "metadata": {},
   "outputs": [
    {
     "data": {
      "text/plain": [
       "['offer id', 'amount', 'offer_id', 'reward']"
      ]
     },
     "execution_count": 17,
     "metadata": {},
     "output_type": "execute_result"
    }
   ],
   "source": [
    "# As we see above, value column has more than one feature\n",
    "# To know featuers in value column\n",
    "features = []\n",
    "for x, row in transcript.iterrows():\n",
    "    for f in row['value']:\n",
    "        if f in features:\n",
    "            continue\n",
    "        else:\n",
    "            features.append(f)\n",
    "\n",
    "# Print features\n",
    "features"
   ]
  },
  {
   "cell_type": "code",
   "execution_count": 18,
   "metadata": {},
   "outputs": [
    {
     "data": {
      "text/html": [
       "<div>\n",
       "<style scoped>\n",
       "    .dataframe tbody tr th:only-of-type {\n",
       "        vertical-align: middle;\n",
       "    }\n",
       "\n",
       "    .dataframe tbody tr th {\n",
       "        vertical-align: top;\n",
       "    }\n",
       "\n",
       "    .dataframe thead th {\n",
       "        text-align: right;\n",
       "    }\n",
       "</style>\n",
       "<table border=\"1\" class=\"dataframe\">\n",
       "  <thead>\n",
       "    <tr style=\"text-align: right;\">\n",
       "      <th></th>\n",
       "      <th>event</th>\n",
       "      <th>person</th>\n",
       "      <th>time</th>\n",
       "      <th>offer_id</th>\n",
       "      <th>amount</th>\n",
       "      <th>reward</th>\n",
       "    </tr>\n",
       "  </thead>\n",
       "  <tbody>\n",
       "    <tr>\n",
       "      <th>0</th>\n",
       "      <td>offer received</td>\n",
       "      <td>78afa995795e4d85b5d9ceeca43f5fef</td>\n",
       "      <td>0</td>\n",
       "      <td>9b98b8c7a33c4b65b9aebfe6a799e6d9</td>\n",
       "      <td>0</td>\n",
       "      <td>0</td>\n",
       "    </tr>\n",
       "    <tr>\n",
       "      <th>1</th>\n",
       "      <td>offer received</td>\n",
       "      <td>a03223e636434f42ac4c3df47e8bac43</td>\n",
       "      <td>0</td>\n",
       "      <td>0b1e1539f2cc45b7b9fa7c272da2e1d7</td>\n",
       "      <td>0</td>\n",
       "      <td>0</td>\n",
       "    </tr>\n",
       "    <tr>\n",
       "      <th>2</th>\n",
       "      <td>offer received</td>\n",
       "      <td>e2127556f4f64592b11af22de27a7932</td>\n",
       "      <td>0</td>\n",
       "      <td>2906b810c7d4411798c6938adc9daaa5</td>\n",
       "      <td>0</td>\n",
       "      <td>0</td>\n",
       "    </tr>\n",
       "  </tbody>\n",
       "</table>\n",
       "</div>"
      ],
      "text/plain": [
       "            event                            person  time  \\\n",
       "0  offer received  78afa995795e4d85b5d9ceeca43f5fef     0   \n",
       "1  offer received  a03223e636434f42ac4c3df47e8bac43     0   \n",
       "2  offer received  e2127556f4f64592b11af22de27a7932     0   \n",
       "\n",
       "                           offer_id  amount  reward  \n",
       "0  9b98b8c7a33c4b65b9aebfe6a799e6d9       0       0  \n",
       "1  0b1e1539f2cc45b7b9fa7c272da2e1d7       0       0  \n",
       "2  2906b810c7d4411798c6938adc9daaa5       0       0  "
      ]
     },
     "execution_count": 18,
     "metadata": {},
     "output_type": "execute_result"
    }
   ],
   "source": [
    "# Offer id is the same of offer_id\n",
    "# So I will create one column for each values of value column by using iterrows()\n",
    "# It seem like one_hot encoding\n",
    "transcript['offer_id'] = ''\n",
    "transcript['amount'] = 0\n",
    "transcript['reward'] = 0\n",
    "\n",
    "for x, row in transcript.iterrows():\n",
    "    for f in row['value']:\n",
    "        if f == 'offer_id' or f == 'offer id':\n",
    "            transcript.at[x, 'offer_id']= row['value'][f]\n",
    "        if f == 'amount':\n",
    "            transcript.at[x, 'amount']= row['value'][f]\n",
    "        if f == 'reward':\n",
    "            transcript.at[x, 'reward']= row['value'][f]\n",
    "\n",
    "# Drop the value column in transcript dataset\n",
    "transcript = transcript.drop('value', axis=1)\n",
    "\n",
    "# Print 3 first rows of transcript dataset\n",
    "transcript.head(3)"
   ]
  },
  {
   "cell_type": "code",
   "execution_count": 19,
   "metadata": {},
   "outputs": [
    {
     "data": {
      "text/plain": [
       "Index(['event', 'person', 'time', 'offer_id', 'amount', 'reward'], dtype='object')"
      ]
     },
     "execution_count": 19,
     "metadata": {},
     "output_type": "execute_result"
    }
   ],
   "source": [
    "# To see the update change and names of columns in Transcript dataset\n",
    "transcript.columns"
   ]
  },
  {
   "cell_type": "markdown",
   "metadata": {},
   "source": [
    "# Data Modeling\n",
    "### Q1: What is the distribution of gender?"
   ]
  },
  {
   "cell_type": "code",
   "execution_count": 20,
   "metadata": {},
   "outputs": [
    {
     "data": {
      "image/png": "[encoded data removed]",
      "text/plain": [
       "<matplotlib.figure.Figure at 0x7f6cca7c5278>"
      ]
     },
     "metadata": {
      "needs_background": "light"
     },
     "output_type": "display_data"
    }
   ],
   "source": [
    "# Create a Bar chart for the distribution of gender\n",
    "profile['gender'].value_counts().plot('bar', figsize = (10,8))\n",
    "plt.title('The Distribution of Gender')\n",
    "plt.ylabel('Count')\n",
    "plt.xlabel('Gender');"
   ]
  },
  {
   "cell_type": "code",
   "execution_count": 21,
   "metadata": {},
   "outputs": [
    {
     "data": {
      "text/plain": [
       "count     17000\n",
       "unique        4\n",
       "top           M\n",
       "freq       8484\n",
       "Name: gender, dtype: object"
      ]
     },
     "execution_count": 21,
     "metadata": {},
     "output_type": "execute_result"
    }
   ],
   "source": [
    "# Print describe details of gender\n",
    "profile.gender.describe()"
   ]
  },
  {
   "cell_type": "markdown",
   "metadata": {},
   "source": [
    "### Q2: What is the distribution of income?"
   ]
  },
  {
   "cell_type": "code",
   "execution_count": 22,
   "metadata": {},
   "outputs": [
    {
     "data": {
      "image/png": "[encoded data removed]",
      "text/plain": [
       "<matplotlib.figure.Figure at 0x7f6cb8319518>"
      ]
     },
     "metadata": {
      "needs_background": "light"
     },
     "output_type": "display_data"
    }
   ],
   "source": [
    "# Create a Box plot for the distribution of income\n",
    "plt.figure(figsize=(10,8))\n",
    "profile['income'].plot('box', figsize = (10,8))\n",
    "plt.title('The Distribution of Income')\n",
    "plt.ylabel('Count')\n",
    "plt.xlabel('income');"
   ]
  },
  {
   "cell_type": "code",
   "execution_count": 23,
   "metadata": {},
   "outputs": [
    {
     "data": {
      "text/plain": [
       "count     17000.000000\n",
       "mean      65404.991568\n",
       "std       20169.288288\n",
       "min       30000.000000\n",
       "25%       51000.000000\n",
       "50%       65404.991568\n",
       "75%       76000.000000\n",
       "max      120000.000000\n",
       "Name: income, dtype: float64"
      ]
     },
     "execution_count": 23,
     "metadata": {},
     "output_type": "execute_result"
    }
   ],
   "source": [
    "# Print describe details of gender\n",
    "profile.income.describe()"
   ]
  },
  {
   "cell_type": "markdown",
   "metadata": {},
   "source": [
    "### Q3: What is the distribution of income by gender?"
   ]
  },
  {
   "cell_type": "code",
   "execution_count": 24,
   "metadata": {},
   "outputs": [
    {
     "data": {
      "image/png": "[encoded data removed]",
      "text/plain": [
       "<matplotlib.figure.Figure at 0x7f6cb8307fd0>"
      ]
     },
     "metadata": {
      "needs_background": "light"
     },
     "output_type": "display_data"
    }
   ],
   "source": [
    "# Create a Box chart for the distribution of income by gender\n",
    "#import seaborn as sns\n",
    "plt.figure(figsize=(10,8))\n",
    "sns.boxplot(x = 'gender', y = 'income', data = profile)\n",
    "plt.title('The Distribution of Income by Gender')\n",
    "plt.ylabel('Income')\n",
    "plt.xlabel('Gender');"
   ]
  },
  {
   "cell_type": "code",
   "execution_count": 25,
   "metadata": {},
   "outputs": [
    {
     "data": {
      "text/html": [
       "<div>\n",
       "<style scoped>\n",
       "    .dataframe tbody tr th:only-of-type {\n",
       "        vertical-align: middle;\n",
       "    }\n",
       "\n",
       "    .dataframe tbody tr th {\n",
       "        vertical-align: top;\n",
       "    }\n",
       "\n",
       "    .dataframe thead th {\n",
       "        text-align: right;\n",
       "    }\n",
       "</style>\n",
       "<table border=\"1\" class=\"dataframe\">\n",
       "  <thead>\n",
       "    <tr style=\"text-align: right;\">\n",
       "      <th></th>\n",
       "      <th>count</th>\n",
       "      <th>mean</th>\n",
       "      <th>std</th>\n",
       "      <th>min</th>\n",
       "      <th>25%</th>\n",
       "      <th>50%</th>\n",
       "      <th>75%</th>\n",
       "      <th>max</th>\n",
       "    </tr>\n",
       "    <tr>\n",
       "      <th>gender</th>\n",
       "      <th></th>\n",
       "      <th></th>\n",
       "      <th></th>\n",
       "      <th></th>\n",
       "      <th></th>\n",
       "      <th></th>\n",
       "      <th></th>\n",
       "      <th></th>\n",
       "    </tr>\n",
       "  </thead>\n",
       "  <tbody>\n",
       "    <tr>\n",
       "      <th>F</th>\n",
       "      <td>6129.0</td>\n",
       "      <td>71306.412139</td>\n",
       "      <td>2.233835e+04</td>\n",
       "      <td>30000.000000</td>\n",
       "      <td>54000.000000</td>\n",
       "      <td>71000.000000</td>\n",
       "      <td>88000.000000</td>\n",
       "      <td>120000.000000</td>\n",
       "    </tr>\n",
       "    <tr>\n",
       "      <th>M</th>\n",
       "      <td>8484.0</td>\n",
       "      <td>61194.601603</td>\n",
       "      <td>2.006952e+04</td>\n",
       "      <td>30000.000000</td>\n",
       "      <td>45000.000000</td>\n",
       "      <td>59000.000000</td>\n",
       "      <td>73000.000000</td>\n",
       "      <td>120000.000000</td>\n",
       "    </tr>\n",
       "    <tr>\n",
       "      <th>NA</th>\n",
       "      <td>2175.0</td>\n",
       "      <td>65404.991568</td>\n",
       "      <td>7.277631e-12</td>\n",
       "      <td>65404.991568</td>\n",
       "      <td>65404.991568</td>\n",
       "      <td>65404.991568</td>\n",
       "      <td>65404.991568</td>\n",
       "      <td>65404.991568</td>\n",
       "    </tr>\n",
       "    <tr>\n",
       "      <th>O</th>\n",
       "      <td>212.0</td>\n",
       "      <td>63287.735849</td>\n",
       "      <td>1.893859e+04</td>\n",
       "      <td>30000.000000</td>\n",
       "      <td>51000.000000</td>\n",
       "      <td>62000.000000</td>\n",
       "      <td>79250.000000</td>\n",
       "      <td>100000.000000</td>\n",
       "    </tr>\n",
       "  </tbody>\n",
       "</table>\n",
       "</div>"
      ],
      "text/plain": [
       "         count          mean           std           min           25%  \\\n",
       "gender                                                                   \n",
       "F       6129.0  71306.412139  2.233835e+04  30000.000000  54000.000000   \n",
       "M       8484.0  61194.601603  2.006952e+04  30000.000000  45000.000000   \n",
       "NA      2175.0  65404.991568  7.277631e-12  65404.991568  65404.991568   \n",
       "O        212.0  63287.735849  1.893859e+04  30000.000000  51000.000000   \n",
       "\n",
       "                 50%           75%            max  \n",
       "gender                                             \n",
       "F       71000.000000  88000.000000  120000.000000  \n",
       "M       59000.000000  73000.000000  120000.000000  \n",
       "NA      65404.991568  65404.991568   65404.991568  \n",
       "O       62000.000000  79250.000000  100000.000000  "
      ]
     },
     "execution_count": 25,
     "metadata": {},
     "output_type": "execute_result"
    }
   ],
   "source": [
    "# Print the descriptive statistics of income by gender\n",
    "income_gender = profile.groupby('gender')['income']\n",
    "income_gender.describe()"
   ]
  },
  {
   "cell_type": "markdown",
   "metadata": {},
   "source": [
    "### Q4: Which the most year that the customers created an app account?"
   ]
  },
  {
   "cell_type": "code",
   "execution_count": 26,
   "metadata": {},
   "outputs": [
    {
     "data": {
      "text/plain": [
       "20171207    43\n",
       "20170819    42\n",
       "20171007    40\n",
       "20171113    39\n",
       "20170928    38\n",
       "20180125    38\n",
       "20170815    38\n",
       "20171010    37\n",
       "20171121    36\n",
       "20180120    35\n",
       "20170728    35\n",
       "20171217    35\n",
       "20180501    35\n",
       "20171204    35\n",
       "20171017    34\n",
       "20171201    34\n",
       "20170806    34\n",
       "20171212    34\n",
       "20170802    34\n",
       "20171208    34\n",
       "20170921    34\n",
       "20170926    34\n",
       "20171027    34\n",
       "20171023    34\n",
       "20170910    34\n",
       "20170901    34\n",
       "20171126    33\n",
       "20180109    33\n",
       "20170731    33\n",
       "20170822    33\n",
       "            ..\n",
       "20140803     1\n",
       "20131108     1\n",
       "20140718     1\n",
       "20140311     1\n",
       "20141213     1\n",
       "20150317     1\n",
       "20140113     1\n",
       "20140804     1\n",
       "20140215     1\n",
       "20150207     1\n",
       "20140226     1\n",
       "20140702     1\n",
       "20150127     1\n",
       "20130731     1\n",
       "20150111     1\n",
       "20141101     1\n",
       "20140306     1\n",
       "20141006     1\n",
       "20130923     1\n",
       "20130801     1\n",
       "20150402     1\n",
       "20140723     1\n",
       "20141214     1\n",
       "20131009     1\n",
       "20150503     1\n",
       "20150519     1\n",
       "20131121     1\n",
       "20131201     1\n",
       "20150102     1\n",
       "20140921     1\n",
       "Name: became_member_on, Length: 1716, dtype: int64"
      ]
     },
     "execution_count": 26,
     "metadata": {},
     "output_type": "execute_result"
    }
   ],
   "source": [
    "# Print the value counts of became_member)on column\n",
    "profile.became_member_on.value_counts()"
   ]
  },
  {
   "cell_type": "code",
   "execution_count": 27,
   "metadata": {},
   "outputs": [],
   "source": [
    "# Create new column in Profile dataset for only year\n",
    "profile['became_member_on_year'] = profile['became_member_on'].astype(str).str[:4]"
   ]
  },
  {
   "cell_type": "code",
   "execution_count": 28,
   "metadata": {},
   "outputs": [
    {
     "data": {
      "image/png": "[encoded data removed]",
      "text/plain": [
       "<matplotlib.figure.Figure at 0x7f6cb828ceb8>"
      ]
     },
     "metadata": {
      "needs_background": "light"
     },
     "output_type": "display_data"
    }
   ],
   "source": [
    "# Create a Bar chart for the number of customers in years\n",
    "profile['became_member_on_year'].value_counts().plot('bar', figsize = (10,8))\n",
    "plt.title('The Number of Customers in Years')\n",
    "plt.ylabel('Number of Customers')\n",
    "plt.xlabel('Year');"
   ]
  },
  {
   "cell_type": "code",
   "execution_count": 29,
   "metadata": {},
   "outputs": [
    {
     "data": {
      "text/plain": [
       "2017    6469\n",
       "2018    4198\n",
       "2016    3526\n",
       "2015    1830\n",
       "2014     691\n",
       "2013     286\n",
       "Name: became_member_on_year, dtype: int64"
      ]
     },
     "execution_count": 29,
     "metadata": {},
     "output_type": "execute_result"
    }
   ],
   "source": [
    "# Print the value counts of became_member_on_year column\n",
    "profile.became_member_on_year.value_counts()"
   ]
  },
  {
   "cell_type": "markdown",
   "metadata": {},
   "source": [
    "### Q5: What are the most and the least common event?"
   ]
  },
  {
   "cell_type": "code",
   "execution_count": 30,
   "metadata": {},
   "outputs": [
    {
     "data": {
      "image/png": "[encoded data removed]",
      "text/plain": [
       "<matplotlib.figure.Figure at 0x7f6cb7df0080>"
      ]
     },
     "metadata": {
      "needs_background": "light"
     },
     "output_type": "display_data"
    }
   ],
   "source": [
    "# Let us see the value count of event column\n",
    "# Create a Bar chart for event\n",
    "transcript['event'].value_counts().plot('bar', figsize = (10,8))\n",
    "plt.title('The Distribution of Event')\n",
    "plt.ylabel('Count')\n",
    "plt.xlabel('Event');"
   ]
  },
  {
   "cell_type": "code",
   "execution_count": 31,
   "metadata": {},
   "outputs": [
    {
     "data": {
      "text/plain": [
       "transaction        138953\n",
       "offer received      76277\n",
       "offer viewed        57725\n",
       "offer completed     33579\n",
       "Name: event, dtype: int64"
      ]
     },
     "execution_count": 31,
     "metadata": {},
     "output_type": "execute_result"
    }
   ],
   "source": [
    "transcript.event.value_counts()"
   ]
  },
  {
   "cell_type": "markdown",
   "metadata": {},
   "source": [
    "### Q6: What are the most and the least common offer type?"
   ]
  },
  {
   "cell_type": "code",
   "execution_count": 32,
   "metadata": {},
   "outputs": [],
   "source": [
    "# THIS TAKES MORE TIME TO RUN\n",
    "# To get offer_type from Portfolio dataset to Transcript dataset\n",
    "# By match id column in Portfolio with offer_id column in Transcript\n",
    "# Create get_offer_type function for that and return offer_type\n",
    "def get_offer_type(offer_id):\n",
    "    try:\n",
    "        offer_type = portfolio[portfolio['id'] == offer_id]['offer_type'].values[0]\n",
    "        return offer_type\n",
    "    except:\n",
    "        offer_type = 'NA'\n",
    "        return offer_type\n",
    "\n",
    "# Create a new column in Transcript dataset named offer_type\n",
    "transcript['offer_type'] = transcript.apply(lambda x: get_offer_type(x['offer_id']), axis=1)"
   ]
  },
  {
   "cell_type": "code",
   "execution_count": 33,
   "metadata": {},
   "outputs": [
    {
     "data": {
      "image/png": "[encoded data removed]",
      "text/plain": [
       "<matplotlib.figure.Figure at 0x7f6cb7e10550>"
      ]
     },
     "metadata": {
      "needs_background": "light"
     },
     "output_type": "display_data"
    }
   ],
   "source": [
    "# Create a box plot for offer type without NA type\n",
    "transcript[transcript['offer_type'] != 'NA']['offer_type'].value_counts().plot('bar', figsize = (10,8))\n",
    "plt.title('The Distribution of Type Offer')\n",
    "plt.ylabel('Count')\n",
    "plt.xlabel('Offer Type');"
   ]
  },
  {
   "cell_type": "code",
   "execution_count": 34,
   "metadata": {},
   "outputs": [
    {
     "data": {
      "text/plain": [
       "NA               138953\n",
       "bogo              71617\n",
       "discount          69898\n",
       "informational     26066\n",
       "Name: offer_type, dtype: int64"
      ]
     },
     "execution_count": 34,
     "metadata": {},
     "output_type": "execute_result"
    }
   ],
   "source": [
    "transcript.offer_type.value_counts()"
   ]
  },
  {
   "cell_type": "markdown",
   "metadata": {},
   "source": [
    "### Q7: What are the most and the least common offer type by offer completed?"
   ]
  },
  {
   "cell_type": "code",
   "execution_count": 35,
   "metadata": {},
   "outputs": [
    {
     "name": "stdout",
     "output_type": "stream",
     "text": [
      "The Most Offer Type For Customers Who Completed Offer Is: discount\n",
      "Number of Customers: 17910\n",
      "Offer Id: 5317\n",
      "-----------------\n",
      "The Least Offer Type For Customers Who Completed Offer Is: bogo\n",
      "Number of Customers: 15669\n",
      "Offer Id: 3331\n"
     ]
    },
    {
     "data": {
      "image/png": "[encoded data removed]",
      "text/plain": [
       "<matplotlib.figure.Figure at 0x7f6cb7dc2438>"
      ]
     },
     "metadata": {
      "needs_background": "light"
     },
     "output_type": "display_data"
    }
   ],
   "source": [
    "# I selected type of event which is offer_completed\n",
    "# To see which offer type was used by customers.\n",
    "offer_completed_type = transcript[transcript['event'] == 'offer completed']\n",
    "\n",
    "# Create a bar plot \n",
    "sns.countplot(x=offer_completed_type['offer_type'])\n",
    "plt.title('The Type of Completed Offer')\n",
    "plt.xlabel('Offer Type');\n",
    "\n",
    "# Print offer type name which is the most offer type used\n",
    "print(f'The Most Offer Type For Customers Who Completed Offer Is: {offer_completed_type[\"offer_type\"].value_counts().index[0]}')\n",
    "\n",
    "# Print Number of Customers for the most offer type used\n",
    "print(f'Number of Customers: {offer_completed_type[\"offer_type\"].value_counts().values[0]}')\n",
    "\n",
    "# Print offer id for the most offer type used\n",
    "print(f'Offer Id: {offer_completed_type[\"offer_id\"].value_counts().values[0]}') \n",
    "\n",
    "print('-----------------')\n",
    "\n",
    "# Print offer type name which is the least offer type used\n",
    "print(f'The Least Offer Type For Customers Who Completed Offer Is: {offer_completed_type[\"offer_type\"].value_counts().index[-1]}')\n",
    "\n",
    "# Print Number of Customers for the least offer type used      \n",
    "print(f'Number of Customers: {offer_completed_type[\"offer_type\"].value_counts().values[-1]}')\n",
    "\n",
    "# Print offer id for the least offer type used      \n",
    "print(f'Offer Id: {offer_completed_type[\"offer_id\"].value_counts().values[-1]}')"
   ]
  },
  {
   "cell_type": "markdown",
   "metadata": {},
   "source": [
    "### Q8: What is the distribution of gender by offer type?"
   ]
  },
  {
   "cell_type": "code",
   "execution_count": 36,
   "metadata": {},
   "outputs": [],
   "source": [
    "# THIS TAKES MORE TIME TO RUN\n",
    "# To get gender from Profile dataset to Transcript dataset\n",
    "# Create get_customer_gender function for that and return gender\n",
    "def get_customer_gender(profile_id):\n",
    "    gender = profile[profile['id'] == profile_id]['gender'].values[0]\n",
    "    return gender\n",
    "\n",
    "# Create a new column in Transcript dataset named gender\n",
    "transcript['gender'] = transcript.apply(lambda x: get_customer_gender(x['person']), axis=1)"
   ]
  },
  {
   "cell_type": "code",
   "execution_count": 37,
   "metadata": {},
   "outputs": [
    {
     "data": {
      "text/plain": [
       "<matplotlib.legend.Legend at 0x7f6cb7d89a20>"
      ]
     },
     "execution_count": 37,
     "metadata": {},
     "output_type": "execute_result"
    },
    {
     "data": {
      "image/png": "[encoded data removed]",
      "text/plain": [
       "<matplotlib.figure.Figure at 0x7f6cb7d89c18>"
      ]
     },
     "metadata": {
      "needs_background": "light"
     },
     "output_type": "display_data"
    }
   ],
   "source": [
    "# Create a box plot for gender without NA type of gender by offer type\n",
    "plt.figure(figsize=(10, 8))\n",
    "sns.countplot(x=transcript[transcript[\"gender\"] != 'NA']['gender'], hue=\"offer_type\", data=transcript)\n",
    "plt.title('The Distribution of Gender by Offer Type')\n",
    "plt.ylabel('Count')\n",
    "plt.xlabel('Gender')\n",
    "plt.legend(title='Offer Type')"
   ]
  },
  {
   "cell_type": "code",
   "execution_count": 38,
   "metadata": {},
   "outputs": [
    {
     "data": {
      "text/html": [
       "<div>\n",
       "<style scoped>\n",
       "    .dataframe tbody tr th:only-of-type {\n",
       "        vertical-align: middle;\n",
       "    }\n",
       "\n",
       "    .dataframe tbody tr th {\n",
       "        vertical-align: top;\n",
       "    }\n",
       "\n",
       "    .dataframe thead th {\n",
       "        text-align: right;\n",
       "    }\n",
       "</style>\n",
       "<table border=\"1\" class=\"dataframe\">\n",
       "  <thead>\n",
       "    <tr style=\"text-align: right;\">\n",
       "      <th></th>\n",
       "      <th></th>\n",
       "      <th>event</th>\n",
       "      <th>person</th>\n",
       "      <th>time</th>\n",
       "      <th>offer_id</th>\n",
       "      <th>amount</th>\n",
       "      <th>reward</th>\n",
       "    </tr>\n",
       "    <tr>\n",
       "      <th>gender</th>\n",
       "      <th>offer_type</th>\n",
       "      <th></th>\n",
       "      <th></th>\n",
       "      <th></th>\n",
       "      <th></th>\n",
       "      <th></th>\n",
       "      <th></th>\n",
       "    </tr>\n",
       "  </thead>\n",
       "  <tbody>\n",
       "    <tr>\n",
       "      <th rowspan=\"4\" valign=\"top\">F</th>\n",
       "      <th>NA</th>\n",
       "      <td>49382</td>\n",
       "      <td>49382</td>\n",
       "      <td>49382</td>\n",
       "      <td>49382</td>\n",
       "      <td>49382</td>\n",
       "      <td>49382</td>\n",
       "    </tr>\n",
       "    <tr>\n",
       "      <th>bogo</th>\n",
       "      <td>27619</td>\n",
       "      <td>27619</td>\n",
       "      <td>27619</td>\n",
       "      <td>27619</td>\n",
       "      <td>27619</td>\n",
       "      <td>27619</td>\n",
       "    </tr>\n",
       "    <tr>\n",
       "      <th>discount</th>\n",
       "      <td>26652</td>\n",
       "      <td>26652</td>\n",
       "      <td>26652</td>\n",
       "      <td>26652</td>\n",
       "      <td>26652</td>\n",
       "      <td>26652</td>\n",
       "    </tr>\n",
       "    <tr>\n",
       "      <th>informational</th>\n",
       "      <td>9448</td>\n",
       "      <td>9448</td>\n",
       "      <td>9448</td>\n",
       "      <td>9448</td>\n",
       "      <td>9448</td>\n",
       "      <td>9448</td>\n",
       "    </tr>\n",
       "    <tr>\n",
       "      <th rowspan=\"4\" valign=\"top\">M</th>\n",
       "      <th>NA</th>\n",
       "      <td>72794</td>\n",
       "      <td>72794</td>\n",
       "      <td>72794</td>\n",
       "      <td>72794</td>\n",
       "      <td>72794</td>\n",
       "      <td>72794</td>\n",
       "    </tr>\n",
       "    <tr>\n",
       "      <th>bogo</th>\n",
       "      <td>35301</td>\n",
       "      <td>35301</td>\n",
       "      <td>35301</td>\n",
       "      <td>35301</td>\n",
       "      <td>35301</td>\n",
       "      <td>35301</td>\n",
       "    </tr>\n",
       "    <tr>\n",
       "      <th>discount</th>\n",
       "      <td>34739</td>\n",
       "      <td>34739</td>\n",
       "      <td>34739</td>\n",
       "      <td>34739</td>\n",
       "      <td>34739</td>\n",
       "      <td>34739</td>\n",
       "    </tr>\n",
       "    <tr>\n",
       "      <th>informational</th>\n",
       "      <td>12856</td>\n",
       "      <td>12856</td>\n",
       "      <td>12856</td>\n",
       "      <td>12856</td>\n",
       "      <td>12856</td>\n",
       "      <td>12856</td>\n",
       "    </tr>\n",
       "    <tr>\n",
       "      <th rowspan=\"4\" valign=\"top\">O</th>\n",
       "      <th>NA</th>\n",
       "      <td>1781</td>\n",
       "      <td>1781</td>\n",
       "      <td>1781</td>\n",
       "      <td>1781</td>\n",
       "      <td>1781</td>\n",
       "      <td>1781</td>\n",
       "    </tr>\n",
       "    <tr>\n",
       "      <th>bogo</th>\n",
       "      <td>914</td>\n",
       "      <td>914</td>\n",
       "      <td>914</td>\n",
       "      <td>914</td>\n",
       "      <td>914</td>\n",
       "      <td>914</td>\n",
       "    </tr>\n",
       "    <tr>\n",
       "      <th>discount</th>\n",
       "      <td>920</td>\n",
       "      <td>920</td>\n",
       "      <td>920</td>\n",
       "      <td>920</td>\n",
       "      <td>920</td>\n",
       "      <td>920</td>\n",
       "    </tr>\n",
       "    <tr>\n",
       "      <th>informational</th>\n",
       "      <td>356</td>\n",
       "      <td>356</td>\n",
       "      <td>356</td>\n",
       "      <td>356</td>\n",
       "      <td>356</td>\n",
       "      <td>356</td>\n",
       "    </tr>\n",
       "  </tbody>\n",
       "</table>\n",
       "</div>"
      ],
      "text/plain": [
       "                      event  person   time  offer_id  amount  reward\n",
       "gender offer_type                                                   \n",
       "F      NA             49382   49382  49382     49382   49382   49382\n",
       "       bogo           27619   27619  27619     27619   27619   27619\n",
       "       discount       26652   26652  26652     26652   26652   26652\n",
       "       informational   9448    9448   9448      9448    9448    9448\n",
       "M      NA             72794   72794  72794     72794   72794   72794\n",
       "       bogo           35301   35301  35301     35301   35301   35301\n",
       "       discount       34739   34739  34739     34739   34739   34739\n",
       "       informational  12856   12856  12856     12856   12856   12856\n",
       "O      NA              1781    1781   1781      1781    1781    1781\n",
       "       bogo             914     914    914       914     914     914\n",
       "       discount         920     920    920       920     920     920\n",
       "       informational    356     356    356       356     356     356"
      ]
     },
     "execution_count": 38,
     "metadata": {},
     "output_type": "execute_result"
    }
   ],
   "source": [
    "# To see the exact numbers of transcript for gender (without NA) by each of offer type\n",
    "gender_by_offer_type = transcript[transcript[\"gender\"] != 'NA'].groupby(['gender','offer_type']).count()\n",
    "gender_by_offer_type"
   ]
  },
  {
   "cell_type": "code",
   "execution_count": 49,
   "metadata": {},
   "outputs": [
    {
     "name": "stdout",
     "output_type": "stream",
     "text": [
      "The Female Transcripts Number = 113101\n",
      "The Proportion of BOGO Offers =  43.34% \n",
      "The Proportion of Discount Offers = 41.83% \n",
      "The Proportion of Informational Offers = 14.83% \n",
      "----------------------\n",
      "The Male Transcripts Number = 155690\n",
      "The Proportion of BOGO Offers =  42.58% \n",
      "The Proportion of Discount Offers = 41.91% \n",
      "The Proportion of Informational Offers = 15.51% \n"
     ]
    }
   ],
   "source": [
    "# Count number of female transcript \n",
    "female_offer_type = gender_by_offer_type.loc[('F')]['event'].sum()\n",
    "\n",
    "# Count number of female transcript for each type of offer types \n",
    "total_female_offer_type = gender_by_offer_type.loc[('F')].loc[['bogo', 'discount', 'informational']]['event'].sum()\n",
    "\n",
    "# Print Female Transcripts Numbers\n",
    "print(f'The Female Transcripts Number = {female_offer_type}')\n",
    "\n",
    "# Print The Proportion of BOGO Offers for female\n",
    "print(f\"The Proportion of BOGO Offers =  {round((gender_by_offer_type.loc[('F', 'bogo')].values[0]/total_female_offer_type)*100,2)}% \")\n",
    "\n",
    "# Print The Proportion of Discount Offers for female      \n",
    "print(f\"The Proportion of Discount Offers = {round((gender_by_offer_type.loc[('F', 'discount')].values[0]/total_female_offer_type)*100,2)}% \")\n",
    "\n",
    "# Print The Proportion of Informational Offers for female      \n",
    "print(f\"The Proportion of Informational Offers = {round((gender_by_offer_type.loc[('F', 'informational')].values[0]/total_female_offer_type)*100,2)}% \")\n",
    "\n",
    "print('----------------------')\n",
    "      \n",
    "# Count number of male transcript\n",
    "male_offer_type = gender_by_offer_type.loc[('M')]['event'].sum()\n",
    "      \n",
    "# Count number of male transcript for each type of offer types\n",
    "total_male_offer_type = gender_by_offer_type.loc[('M')].loc[['bogo', 'discount', 'informational']]['event'].sum()\n",
    "\n",
    "# Print male Transcripts Numbers\n",
    "print(f'The Male Transcripts Number = {male_offer_type}')\n",
    "\n",
    "# Print The Proportion of BOGO Offers for male\n",
    "print(f\"The Proportion of BOGO Offers =  {round((gender_by_offer_type.loc[('M', 'bogo')].values[0]/total_male_offer_type)*100,2)}% \")\n",
    "\n",
    "# Print The Proportion of Discount Offers for male      \n",
    "print(f\"The Proportion of Discount Offers = {round((gender_by_offer_type.loc[('M', 'discount')].values[0]/total_male_offer_type)*100,2)}% \")\n",
    "\n",
    "# Print The Proportion of Informational Offers for male      \n",
    "print(f\"The Proportion of Informational Offers = {round((gender_by_offer_type.loc[('M', 'informational')].values[0]/total_male_offer_type)*100,2)}% \")\n"
   ]
  },
  {
   "cell_type": "markdown",
   "metadata": {},
   "source": [
    "### Q9: What is the distribution of gender by event?"
   ]
  },
  {
   "cell_type": "code",
   "execution_count": 39,
   "metadata": {},
   "outputs": [
    {
     "data": {
      "text/plain": [
       "<matplotlib.legend.Legend at 0x7f6cb7d57550>"
      ]
     },
     "execution_count": 39,
     "metadata": {},
     "output_type": "execute_result"
    },
    {
     "data": {
      "image/png": "[encoded data removed]",
      "text/plain": [
       "<matplotlib.figure.Figure at 0x7f6cb7d57518>"
      ]
     },
     "metadata": {
      "needs_background": "light"
     },
     "output_type": "display_data"
    }
   ],
   "source": [
    "# Create a box plot for gender without NA type of gender by event\n",
    "plt.figure(figsize=(10, 8))\n",
    "sns.countplot(x=transcript[transcript[\"gender\"] != 'NA']['gender'], hue=\"event\", data=transcript)\n",
    "plt.title('The Distribution of Gender by Event')\n",
    "plt.ylabel('Count')\n",
    "plt.xlabel('Gender')\n",
    "plt.legend(title='Event')"
   ]
  },
  {
   "cell_type": "code",
   "execution_count": 40,
   "metadata": {},
   "outputs": [
    {
     "data": {
      "text/html": [
       "<div>\n",
       "<style scoped>\n",
       "    .dataframe tbody tr th:only-of-type {\n",
       "        vertical-align: middle;\n",
       "    }\n",
       "\n",
       "    .dataframe tbody tr th {\n",
       "        vertical-align: top;\n",
       "    }\n",
       "\n",
       "    .dataframe thead th {\n",
       "        text-align: right;\n",
       "    }\n",
       "</style>\n",
       "<table border=\"1\" class=\"dataframe\">\n",
       "  <thead>\n",
       "    <tr style=\"text-align: right;\">\n",
       "      <th></th>\n",
       "      <th></th>\n",
       "      <th>person</th>\n",
       "      <th>time</th>\n",
       "      <th>offer_id</th>\n",
       "      <th>amount</th>\n",
       "      <th>reward</th>\n",
       "      <th>offer_type</th>\n",
       "    </tr>\n",
       "    <tr>\n",
       "      <th>gender</th>\n",
       "      <th>event</th>\n",
       "      <th></th>\n",
       "      <th></th>\n",
       "      <th></th>\n",
       "      <th></th>\n",
       "      <th></th>\n",
       "      <th></th>\n",
       "    </tr>\n",
       "  </thead>\n",
       "  <tbody>\n",
       "    <tr>\n",
       "      <th rowspan=\"4\" valign=\"top\">F</th>\n",
       "      <th>offer completed</th>\n",
       "      <td>15477</td>\n",
       "      <td>15477</td>\n",
       "      <td>15477</td>\n",
       "      <td>15477</td>\n",
       "      <td>15477</td>\n",
       "      <td>15477</td>\n",
       "    </tr>\n",
       "    <tr>\n",
       "      <th>offer received</th>\n",
       "      <td>27456</td>\n",
       "      <td>27456</td>\n",
       "      <td>27456</td>\n",
       "      <td>27456</td>\n",
       "      <td>27456</td>\n",
       "      <td>27456</td>\n",
       "    </tr>\n",
       "    <tr>\n",
       "      <th>offer viewed</th>\n",
       "      <td>20786</td>\n",
       "      <td>20786</td>\n",
       "      <td>20786</td>\n",
       "      <td>20786</td>\n",
       "      <td>20786</td>\n",
       "      <td>20786</td>\n",
       "    </tr>\n",
       "    <tr>\n",
       "      <th>transaction</th>\n",
       "      <td>49382</td>\n",
       "      <td>49382</td>\n",
       "      <td>49382</td>\n",
       "      <td>49382</td>\n",
       "      <td>49382</td>\n",
       "      <td>49382</td>\n",
       "    </tr>\n",
       "    <tr>\n",
       "      <th rowspan=\"4\" valign=\"top\">M</th>\n",
       "      <th>offer completed</th>\n",
       "      <td>16466</td>\n",
       "      <td>16466</td>\n",
       "      <td>16466</td>\n",
       "      <td>16466</td>\n",
       "      <td>16466</td>\n",
       "      <td>16466</td>\n",
       "    </tr>\n",
       "    <tr>\n",
       "      <th>offer received</th>\n",
       "      <td>38129</td>\n",
       "      <td>38129</td>\n",
       "      <td>38129</td>\n",
       "      <td>38129</td>\n",
       "      <td>38129</td>\n",
       "      <td>38129</td>\n",
       "    </tr>\n",
       "    <tr>\n",
       "      <th>offer viewed</th>\n",
       "      <td>28301</td>\n",
       "      <td>28301</td>\n",
       "      <td>28301</td>\n",
       "      <td>28301</td>\n",
       "      <td>28301</td>\n",
       "      <td>28301</td>\n",
       "    </tr>\n",
       "    <tr>\n",
       "      <th>transaction</th>\n",
       "      <td>72794</td>\n",
       "      <td>72794</td>\n",
       "      <td>72794</td>\n",
       "      <td>72794</td>\n",
       "      <td>72794</td>\n",
       "      <td>72794</td>\n",
       "    </tr>\n",
       "    <tr>\n",
       "      <th rowspan=\"4\" valign=\"top\">O</th>\n",
       "      <th>offer completed</th>\n",
       "      <td>501</td>\n",
       "      <td>501</td>\n",
       "      <td>501</td>\n",
       "      <td>501</td>\n",
       "      <td>501</td>\n",
       "      <td>501</td>\n",
       "    </tr>\n",
       "    <tr>\n",
       "      <th>offer received</th>\n",
       "      <td>916</td>\n",
       "      <td>916</td>\n",
       "      <td>916</td>\n",
       "      <td>916</td>\n",
       "      <td>916</td>\n",
       "      <td>916</td>\n",
       "    </tr>\n",
       "    <tr>\n",
       "      <th>offer viewed</th>\n",
       "      <td>773</td>\n",
       "      <td>773</td>\n",
       "      <td>773</td>\n",
       "      <td>773</td>\n",
       "      <td>773</td>\n",
       "      <td>773</td>\n",
       "    </tr>\n",
       "    <tr>\n",
       "      <th>transaction</th>\n",
       "      <td>1781</td>\n",
       "      <td>1781</td>\n",
       "      <td>1781</td>\n",
       "      <td>1781</td>\n",
       "      <td>1781</td>\n",
       "      <td>1781</td>\n",
       "    </tr>\n",
       "  </tbody>\n",
       "</table>\n",
       "</div>"
      ],
      "text/plain": [
       "                        person   time  offer_id  amount  reward  offer_type\n",
       "gender event                                                               \n",
       "F      offer completed   15477  15477     15477   15477   15477       15477\n",
       "       offer received    27456  27456     27456   27456   27456       27456\n",
       "       offer viewed      20786  20786     20786   20786   20786       20786\n",
       "       transaction       49382  49382     49382   49382   49382       49382\n",
       "M      offer completed   16466  16466     16466   16466   16466       16466\n",
       "       offer received    38129  38129     38129   38129   38129       38129\n",
       "       offer viewed      28301  28301     28301   28301   28301       28301\n",
       "       transaction       72794  72794     72794   72794   72794       72794\n",
       "O      offer completed     501    501       501     501     501         501\n",
       "       offer received      916    916       916     916     916         916\n",
       "       offer viewed        773    773       773     773     773         773\n",
       "       transaction        1781   1781      1781    1781    1781        1781"
      ]
     },
     "execution_count": 40,
     "metadata": {},
     "output_type": "execute_result"
    }
   ],
   "source": [
    "# To see the exact numbers of transcript for gender (without NA) by each of event type\n",
    "gender_by_event_type = transcript[transcript[\"gender\"] != 'NA'].groupby(['gender','event']).count()\n",
    "gender_by_event_type"
   ]
  },
  {
   "cell_type": "code",
   "execution_count": 52,
   "metadata": {},
   "outputs": [
    {
     "name": "stdout",
     "output_type": "stream",
     "text": [
      "The Female Transcripts Number = 113101\n",
      "The Proportion of Offer Completed Type =  56.37% of Offers Received \n",
      "The Proportion of Offer Received Type = 43.09% \n",
      "The Proportion of Offer Viewed Type = 32.62% \n",
      "The Proportion of Transaction Type = 77.5% \n",
      "----------------------\n",
      "The Male Transcripts Number = 155690\n",
      "The Proportion of Offer Completed Type =  43.18% of Offers Received \n",
      "The Proportion of Offer Received Type = 46.0% \n",
      "The Proportion of Offer Viewed Type = 34.14% \n",
      "The Proportion of Transaction Type = 87.81% \n"
     ]
    }
   ],
   "source": [
    "# Print Female Transcripts Numbers\n",
    "print(f'The Female Transcripts Number = {female_offer_type}')\n",
    "\n",
    "# Print The Proportion of  Offer Completed for female\n",
    "print(f\"The Proportion of Offer Completed Type =  {round((gender_by_event_type.loc[('F', 'offer completed')].values[0]/gender_by_event_type.loc[('F', 'offer received')].values[0])*100,2)}% of Offers Received \")\n",
    "\n",
    "# Print The Proportion of Offer Received for female      \n",
    "print(f\"The Proportion of Offer Received Type = {round((gender_by_event_type.loc[('F', 'offer received')].values[0]/total_female_offer_type)*100,2)}% \")\n",
    "\n",
    "# Print The Proportion of Offer Viewed for female      \n",
    "print(f\"The Proportion of Offer Viewed Type = {round((gender_by_event_type.loc[('F', 'offer viewed')].values[0]/total_female_offer_type)*100,2)}% \")\n",
    "\n",
    "# Print The Proportion of Transaction for female      \n",
    "print(f\"The Proportion of Transaction Type = {round((gender_by_event_type.loc[('F', 'transaction')].values[0]/total_female_offer_type)*100,2)}% \")\n",
    "\n",
    "print('----------------------')\n",
    "      \n",
    "# Print male Transcripts Numbers\n",
    "print(f'The Male Transcripts Number = {male_offer_type}')\n",
    "\n",
    "# Print The Proportion of  Offer Completed for male\n",
    "print(f\"The Proportion of Offer Completed Type =  {round((gender_by_event_type.loc[('M', 'offer completed')].values[0]/gender_by_event_type.loc[('M', 'offer received')].values[0])*100,2)}% of Offers Received \")\n",
    "\n",
    "# Print The Proportion of Offer Received for male      \n",
    "print(f\"The Proportion of Offer Received Type = {round((gender_by_event_type.loc[('M', 'offer received')].values[0]/total_male_offer_type)*100,2)}% \")\n",
    "\n",
    "# Print The Proportion of Offer Viewed for male      \n",
    "print(f\"The Proportion of Offer Viewed Type = {round((gender_by_event_type.loc[('M', 'offer viewed')].values[0]/total_male_offer_type)*100,2)}% \")\n",
    "\n",
    "# Print The Proportion of Transaction for male      \n",
    "print(f\"The Proportion of Transaction Type = {round((gender_by_event_type.loc[('M', 'transaction')].values[0]/total_male_offer_type)*100,2)}% \")\n"
   ]
  },
  {
   "cell_type": "markdown",
   "metadata": {},
   "source": [
    "### Data Preprocessing"
   ]
  },
  {
   "cell_type": "code",
   "execution_count": 53,
   "metadata": {},
   "outputs": [],
   "source": [
    "# THIS TAKES MORE TIME TO RUN\n",
    "# I will add income column in transcript dataset may need it for model\n",
    "# To get income from Profile dataset to Transcript dataset\n",
    "# Create get_customer_income function for that and return income\n",
    "def get_customer_income(profile_id):\n",
    "    income = profile[profile['id'] == profile_id]['income'].values[0]\n",
    "    return income\n",
    "\n",
    "# Create a new column in Transcript dataset named income\n",
    "transcript['income'] = transcript.apply(lambda x: get_customer_income(x['person']), axis=1)"
   ]
  },
  {
   "cell_type": "code",
   "execution_count": 60,
   "metadata": {},
   "outputs": [
    {
     "data": {
      "text/html": [
       "<div>\n",
       "<style scoped>\n",
       "    .dataframe tbody tr th:only-of-type {\n",
       "        vertical-align: middle;\n",
       "    }\n",
       "\n",
       "    .dataframe tbody tr th {\n",
       "        vertical-align: top;\n",
       "    }\n",
       "\n",
       "    .dataframe thead th {\n",
       "        text-align: right;\n",
       "    }\n",
       "</style>\n",
       "<table border=\"1\" class=\"dataframe\">\n",
       "  <thead>\n",
       "    <tr style=\"text-align: right;\">\n",
       "      <th></th>\n",
       "      <th>event</th>\n",
       "      <th>person</th>\n",
       "      <th>time</th>\n",
       "      <th>offer_id</th>\n",
       "      <th>amount</th>\n",
       "      <th>reward</th>\n",
       "      <th>offer_type</th>\n",
       "      <th>gender</th>\n",
       "      <th>income</th>\n",
       "    </tr>\n",
       "  </thead>\n",
       "  <tbody>\n",
       "    <tr>\n",
       "      <th>0</th>\n",
       "      <td>offer received</td>\n",
       "      <td>78afa995795e4d85b5d9ceeca43f5fef</td>\n",
       "      <td>0</td>\n",
       "      <td>9b98b8c7a33c4b65b9aebfe6a799e6d9</td>\n",
       "      <td>0</td>\n",
       "      <td>0</td>\n",
       "      <td>bogo</td>\n",
       "      <td>F</td>\n",
       "      <td>100000.000000</td>\n",
       "    </tr>\n",
       "    <tr>\n",
       "      <th>1</th>\n",
       "      <td>offer received</td>\n",
       "      <td>a03223e636434f42ac4c3df47e8bac43</td>\n",
       "      <td>0</td>\n",
       "      <td>0b1e1539f2cc45b7b9fa7c272da2e1d7</td>\n",
       "      <td>0</td>\n",
       "      <td>0</td>\n",
       "      <td>discount</td>\n",
       "      <td>NA</td>\n",
       "      <td>65404.991568</td>\n",
       "    </tr>\n",
       "    <tr>\n",
       "      <th>2</th>\n",
       "      <td>offer received</td>\n",
       "      <td>e2127556f4f64592b11af22de27a7932</td>\n",
       "      <td>0</td>\n",
       "      <td>2906b810c7d4411798c6938adc9daaa5</td>\n",
       "      <td>0</td>\n",
       "      <td>0</td>\n",
       "      <td>discount</td>\n",
       "      <td>M</td>\n",
       "      <td>70000.000000</td>\n",
       "    </tr>\n",
       "  </tbody>\n",
       "</table>\n",
       "</div>"
      ],
      "text/plain": [
       "            event                            person  time  \\\n",
       "0  offer received  78afa995795e4d85b5d9ceeca43f5fef     0   \n",
       "1  offer received  a03223e636434f42ac4c3df47e8bac43     0   \n",
       "2  offer received  e2127556f4f64592b11af22de27a7932     0   \n",
       "\n",
       "                           offer_id  amount  reward offer_type gender  \\\n",
       "0  9b98b8c7a33c4b65b9aebfe6a799e6d9       0       0       bogo      F   \n",
       "1  0b1e1539f2cc45b7b9fa7c272da2e1d7       0       0   discount     NA   \n",
       "2  2906b810c7d4411798c6938adc9daaa5       0       0   discount      M   \n",
       "\n",
       "          income  \n",
       "0  100000.000000  \n",
       "1   65404.991568  \n",
       "2   70000.000000  "
      ]
     },
     "execution_count": 60,
     "metadata": {},
     "output_type": "execute_result"
    }
   ],
   "source": [
    "# Take a look to transcript after changes\n",
    "# Print a three first rows of Transcript dataset\n",
    "transcript.head(3)"
   ]
  },
  {
   "cell_type": "code",
   "execution_count": 61,
   "metadata": {},
   "outputs": [
    {
     "data": {
      "text/html": [
       "<div>\n",
       "<style scoped>\n",
       "    .dataframe tbody tr th:only-of-type {\n",
       "        vertical-align: middle;\n",
       "    }\n",
       "\n",
       "    .dataframe tbody tr th {\n",
       "        vertical-align: top;\n",
       "    }\n",
       "\n",
       "    .dataframe thead th {\n",
       "        text-align: right;\n",
       "    }\n",
       "</style>\n",
       "<table border=\"1\" class=\"dataframe\">\n",
       "  <thead>\n",
       "    <tr style=\"text-align: right;\">\n",
       "      <th></th>\n",
       "      <th>event</th>\n",
       "      <th>person</th>\n",
       "      <th>time</th>\n",
       "      <th>offer_id</th>\n",
       "      <th>amount</th>\n",
       "      <th>reward</th>\n",
       "      <th>offer_type</th>\n",
       "      <th>gender</th>\n",
       "      <th>income</th>\n",
       "    </tr>\n",
       "  </thead>\n",
       "  <tbody>\n",
       "    <tr>\n",
       "      <th>0</th>\n",
       "      <td>offer received</td>\n",
       "      <td>78afa995795e4d85b5d9ceeca43f5fef</td>\n",
       "      <td>0</td>\n",
       "      <td>9b98b8c7a33c4b65b9aebfe6a799e6d9</td>\n",
       "      <td>0</td>\n",
       "      <td>0</td>\n",
       "      <td>bogo</td>\n",
       "      <td>F</td>\n",
       "      <td>100000.000000</td>\n",
       "    </tr>\n",
       "    <tr>\n",
       "      <th>1</th>\n",
       "      <td>offer received</td>\n",
       "      <td>a03223e636434f42ac4c3df47e8bac43</td>\n",
       "      <td>0</td>\n",
       "      <td>0b1e1539f2cc45b7b9fa7c272da2e1d7</td>\n",
       "      <td>0</td>\n",
       "      <td>0</td>\n",
       "      <td>discount</td>\n",
       "      <td>NaN</td>\n",
       "      <td>65404.991568</td>\n",
       "    </tr>\n",
       "    <tr>\n",
       "      <th>2</th>\n",
       "      <td>offer received</td>\n",
       "      <td>e2127556f4f64592b11af22de27a7932</td>\n",
       "      <td>0</td>\n",
       "      <td>2906b810c7d4411798c6938adc9daaa5</td>\n",
       "      <td>0</td>\n",
       "      <td>0</td>\n",
       "      <td>discount</td>\n",
       "      <td>M</td>\n",
       "      <td>70000.000000</td>\n",
       "    </tr>\n",
       "    <tr>\n",
       "      <th>3</th>\n",
       "      <td>offer received</td>\n",
       "      <td>8ec6ce2a7e7949b1bf142def7d0e0586</td>\n",
       "      <td>0</td>\n",
       "      <td>fafdcd668e3743c1bb461111dcafc2a4</td>\n",
       "      <td>0</td>\n",
       "      <td>0</td>\n",
       "      <td>discount</td>\n",
       "      <td>NaN</td>\n",
       "      <td>65404.991568</td>\n",
       "    </tr>\n",
       "    <tr>\n",
       "      <th>4</th>\n",
       "      <td>offer received</td>\n",
       "      <td>68617ca6246f4fbc85e91a2a49552598</td>\n",
       "      <td>0</td>\n",
       "      <td>4d5c57ea9a6940dd891ad53e9dbe8da0</td>\n",
       "      <td>0</td>\n",
       "      <td>0</td>\n",
       "      <td>bogo</td>\n",
       "      <td>NaN</td>\n",
       "      <td>65404.991568</td>\n",
       "    </tr>\n",
       "  </tbody>\n",
       "</table>\n",
       "</div>"
      ],
      "text/plain": [
       "            event                            person  time  \\\n",
       "0  offer received  78afa995795e4d85b5d9ceeca43f5fef     0   \n",
       "1  offer received  a03223e636434f42ac4c3df47e8bac43     0   \n",
       "2  offer received  e2127556f4f64592b11af22de27a7932     0   \n",
       "3  offer received  8ec6ce2a7e7949b1bf142def7d0e0586     0   \n",
       "4  offer received  68617ca6246f4fbc85e91a2a49552598     0   \n",
       "\n",
       "                           offer_id  amount  reward offer_type gender  \\\n",
       "0  9b98b8c7a33c4b65b9aebfe6a799e6d9       0       0       bogo      F   \n",
       "1  0b1e1539f2cc45b7b9fa7c272da2e1d7       0       0   discount    NaN   \n",
       "2  2906b810c7d4411798c6938adc9daaa5       0       0   discount      M   \n",
       "3  fafdcd668e3743c1bb461111dcafc2a4       0       0   discount    NaN   \n",
       "4  4d5c57ea9a6940dd891ad53e9dbe8da0       0       0       bogo    NaN   \n",
       "\n",
       "          income  \n",
       "0  100000.000000  \n",
       "1   65404.991568  \n",
       "2   70000.000000  \n",
       "3   65404.991568  \n",
       "4   65404.991568  "
      ]
     },
     "execution_count": 61,
     "metadata": {},
     "output_type": "execute_result"
    }
   ],
   "source": [
    "# I will save copy of Transcript into csv file to work on it\n",
    "transcript.to_csv('clean_transcript.csv')\n",
    "\n",
    "# Read 'clean_transcript.csv' file\n",
    "transcript_cleaned = pd.read_csv('clean_transcript.csv').iloc[:, 1:]\n",
    "\n",
    "# Print the first five rows of transcript_cleaned dataset\n",
    "transcript_cleaned.head()"
   ]
  },
  {
   "cell_type": "code",
   "execution_count": 62,
   "metadata": {},
   "outputs": [
    {
     "data": {
      "text/plain": [
       "event              0\n",
       "person             0\n",
       "time               0\n",
       "offer_id      138953\n",
       "amount             0\n",
       "reward             0\n",
       "offer_type    138953\n",
       "gender         33772\n",
       "income             0\n",
       "dtype: int64"
      ]
     },
     "execution_count": 62,
     "metadata": {},
     "output_type": "execute_result"
    }
   ],
   "source": [
    "# Check if there are any missing value in transcript_cleaned dataset\n",
    "transcript_cleaned.isna().sum()"
   ]
  },
  {
   "cell_type": "code",
   "execution_count": 63,
   "metadata": {},
   "outputs": [],
   "source": [
    "# Fill the missing value in offer_id, offer_type and gender columns with NA\n",
    "transcript_cleaned['offer_id'].fillna('NA', inplace=True)\n",
    "transcript_cleaned['offer_type'].fillna('NA', inplace=True)\n",
    "transcript_cleaned['gender'].fillna('NA', inplace=True)"
   ]
  },
  {
   "cell_type": "code",
   "execution_count": 64,
   "metadata": {},
   "outputs": [
    {
     "data": {
      "text/plain": [
       "event         0\n",
       "person        0\n",
       "time          0\n",
       "offer_id      0\n",
       "amount        0\n",
       "reward        0\n",
       "offer_type    0\n",
       "gender        0\n",
       "income        0\n",
       "dtype: int64"
      ]
     },
     "execution_count": 64,
     "metadata": {},
     "output_type": "execute_result"
    }
   ],
   "source": [
    "# To ensure there are not any missing value in transcript_cleaned dataset\n",
    "transcript_cleaned.isna().sum()"
   ]
  },
  {
   "cell_type": "code",
   "execution_count": 65,
   "metadata": {},
   "outputs": [
    {
     "data": {
      "text/plain": [
       "(306534, 9)"
      ]
     },
     "execution_count": 65,
     "metadata": {},
     "output_type": "execute_result"
    }
   ],
   "source": [
    "# Print number of rows and columns of transcript_cleaned\n",
    "transcript_cleaned.shape"
   ]
  },
  {
   "cell_type": "code",
   "execution_count": 66,
   "metadata": {},
   "outputs": [],
   "source": [
    "# Drop offer_id with NA value due to unneeded\n",
    "transcript_cleaned = transcript_cleaned[transcript_cleaned['offer_id'] != 'NA']"
   ]
  },
  {
   "cell_type": "code",
   "execution_count": 67,
   "metadata": {},
   "outputs": [
    {
     "data": {
      "text/plain": [
       "(167581, 9)"
      ]
     },
     "execution_count": 67,
     "metadata": {},
     "output_type": "execute_result"
    }
   ],
   "source": [
    "# Updated number of rows and columns of transcript_cleaned\n",
    "transcript_cleaned.shape"
   ]
  },
  {
   "cell_type": "code",
   "execution_count": 68,
   "metadata": {},
   "outputs": [
    {
     "name": "stdout",
     "output_type": "stream",
     "text": [
      "{'event': {'offer completed': 1, 'offer received': 2, 'offer viewed': 3}}\n",
      "------------------\n",
      "{'offer_id': {'0b1e1539f2cc45b7b9fa7c272da2e1d7': 1, '2298d6c36e964ae4a3e7e9706d1fb8c2': 2, '2906b810c7d4411798c6938adc9daaa5': 3, '3f207df678b143eea3cee63160fa8bed': 4, '4d5c57ea9a6940dd891ad53e9dbe8da0': 5, '5a8bc65990b245e5a138643cd4eb9837': 6, '9b98b8c7a33c4b65b9aebfe6a799e6d9': 7, 'ae264e3637204a6fb9bb56bc8210ddfd': 8, 'f19421c1d4aa40978ebb69ca19b0e20d': 9, 'fafdcd668e3743c1bb461111dcafc2a4': 10}}\n",
      "------------------\n",
      "{'offer_type': {'bogo': 1, 'discount': 2, 'informational': 3}}\n",
      "------------------\n",
      "{'gender': {'F': 1, 'M': 2, 'NA': 3, 'O': 4}}\n"
     ]
    }
   ],
   "source": [
    "# I will replace categorical values to numerical values \n",
    "# For event, offer_id, offer_type and gender cloumns\n",
    "# reference: https://www.datacamp.com/community/tutorials/categorical-data\n",
    "\n",
    "# 'offer completed'= 1, 'offer received'= 2, 'offer viewed'= 3\n",
    "event_type_labels = transcript_cleaned['event'].astype('category').cat.categories.tolist()\n",
    "replace_event_type = {'event' : {k: v for k,v in zip(event_type_labels,list(range(1,len(event_type_labels)+1)))}}\n",
    "print(replace_event_type)\n",
    "print('------------------')\n",
    "\n",
    "# '0b1e1539f2cc45b7b9fa7c272da2e1d7'= 1, '2298d6c36e964ae4a3e7e9706d1fb8c2': 2, \n",
    "# and so on\n",
    "offer_id_labels = transcript_cleaned['offer_id'].astype('category').cat.categories.tolist()\n",
    "replace_offer_id = {'offer_id' : {k: v for k,v in zip(offer_id_labels,list(range(1,len(offer_id_labels)+1)))}}\n",
    "print(replace_offer_id)\n",
    "print('------------------')\n",
    "\n",
    "# 'bogo'= 1, 'discount'= 2, 'informational'= 3\n",
    "offer_type_labels = transcript_cleaned['offer_type'].astype('category').cat.categories.tolist()\n",
    "replace_offer_type = {'offer_type' : {k: v for k,v in zip(offer_type_labels,list(range(1,len(offer_type_labels)+1)))}}\n",
    "print(replace_offer_type)\n",
    "print('------------------')\n",
    "\n",
    "# 'F'= 1, 'M'= 2, 'NA'= 3, 'O'= 4\n",
    "gender_labels = transcript_cleaned['gender'].astype('category').cat.categories.tolist()\n",
    "replace_gender = {'gender' : {k: v for k,v in zip(gender_labels,list(range(1,len(gender_labels)+1)))}}\n",
    "print(replace_gender)"
   ]
  },
  {
   "cell_type": "code",
   "execution_count": 69,
   "metadata": {},
   "outputs": [],
   "source": [
    "# Replace these labels above in transcript_cleaned dataset\n",
    "transcript_cleaned.replace(replace_event_type, inplace=True)\n",
    "transcript_cleaned.replace(replace_offer_id, inplace=True)\n",
    "transcript_cleaned.replace(replace_offer_type, inplace=True)\n",
    "transcript_cleaned.replace(replace_gender, inplace=True)"
   ]
  },
  {
   "cell_type": "code",
   "execution_count": 71,
   "metadata": {},
   "outputs": [
    {
     "data": {
      "text/html": [
       "<div>\n",
       "<style scoped>\n",
       "    .dataframe tbody tr th:only-of-type {\n",
       "        vertical-align: middle;\n",
       "    }\n",
       "\n",
       "    .dataframe tbody tr th {\n",
       "        vertical-align: top;\n",
       "    }\n",
       "\n",
       "    .dataframe thead th {\n",
       "        text-align: right;\n",
       "    }\n",
       "</style>\n",
       "<table border=\"1\" class=\"dataframe\">\n",
       "  <thead>\n",
       "    <tr style=\"text-align: right;\">\n",
       "      <th></th>\n",
       "      <th>event</th>\n",
       "      <th>person</th>\n",
       "      <th>time</th>\n",
       "      <th>offer_id</th>\n",
       "      <th>amount</th>\n",
       "      <th>reward</th>\n",
       "      <th>offer_type</th>\n",
       "      <th>gender</th>\n",
       "      <th>income</th>\n",
       "    </tr>\n",
       "  </thead>\n",
       "  <tbody>\n",
       "    <tr>\n",
       "      <th>0</th>\n",
       "      <td>2</td>\n",
       "      <td>78afa995795e4d85b5d9ceeca43f5fef</td>\n",
       "      <td>0</td>\n",
       "      <td>7</td>\n",
       "      <td>0</td>\n",
       "      <td>0</td>\n",
       "      <td>1</td>\n",
       "      <td>1</td>\n",
       "      <td>100000.000000</td>\n",
       "    </tr>\n",
       "    <tr>\n",
       "      <th>1</th>\n",
       "      <td>2</td>\n",
       "      <td>a03223e636434f42ac4c3df47e8bac43</td>\n",
       "      <td>0</td>\n",
       "      <td>1</td>\n",
       "      <td>0</td>\n",
       "      <td>0</td>\n",
       "      <td>2</td>\n",
       "      <td>3</td>\n",
       "      <td>65404.991568</td>\n",
       "    </tr>\n",
       "    <tr>\n",
       "      <th>2</th>\n",
       "      <td>2</td>\n",
       "      <td>e2127556f4f64592b11af22de27a7932</td>\n",
       "      <td>0</td>\n",
       "      <td>3</td>\n",
       "      <td>0</td>\n",
       "      <td>0</td>\n",
       "      <td>2</td>\n",
       "      <td>2</td>\n",
       "      <td>70000.000000</td>\n",
       "    </tr>\n",
       "  </tbody>\n",
       "</table>\n",
       "</div>"
      ],
      "text/plain": [
       "   event                            person  time  offer_id  amount  reward  \\\n",
       "0      2  78afa995795e4d85b5d9ceeca43f5fef     0         7       0       0   \n",
       "1      2  a03223e636434f42ac4c3df47e8bac43     0         1       0       0   \n",
       "2      2  e2127556f4f64592b11af22de27a7932     0         3       0       0   \n",
       "\n",
       "   offer_type  gender         income  \n",
       "0           1       1  100000.000000  \n",
       "1           2       3   65404.991568  \n",
       "2           2       2   70000.000000  "
      ]
     },
     "execution_count": 71,
     "metadata": {},
     "output_type": "execute_result"
    }
   ],
   "source": [
    "# Take a look to transcript_cleaned\n",
    "# Print a three first rows of Transcript_cleaned dataset\n",
    "transcript_cleaned.head(3)"
   ]
  },
  {
   "cell_type": "code",
   "execution_count": 76,
   "metadata": {},
   "outputs": [],
   "source": [
    "# Split data into the target (offer_type) and features_final \n",
    "target = transcript_cleaned['offer_type']\n",
    "\n",
    "# I will drop person and offer_type columns due to unneeded any more\n",
    "features_final = transcript_cleaned.drop(['person', 'offer_type'], axis = 1)"
   ]
  },
  {
   "cell_type": "code",
   "execution_count": 77,
   "metadata": {},
   "outputs": [
    {
     "data": {
      "text/plain": [
       "0    1\n",
       "1    2\n",
       "2    2\n",
       "Name: offer_type, dtype: int64"
      ]
     },
     "execution_count": 77,
     "metadata": {},
     "output_type": "execute_result"
    }
   ],
   "source": [
    "# Print a three first rows of target\n",
    "target.head(3)"
   ]
  },
  {
   "cell_type": "code",
   "execution_count": 78,
   "metadata": {},
   "outputs": [
    {
     "data": {
      "text/html": [
       "<div>\n",
       "<style scoped>\n",
       "    .dataframe tbody tr th:only-of-type {\n",
       "        vertical-align: middle;\n",
       "    }\n",
       "\n",
       "    .dataframe tbody tr th {\n",
       "        vertical-align: top;\n",
       "    }\n",
       "\n",
       "    .dataframe thead th {\n",
       "        text-align: right;\n",
       "    }\n",
       "</style>\n",
       "<table border=\"1\" class=\"dataframe\">\n",
       "  <thead>\n",
       "    <tr style=\"text-align: right;\">\n",
       "      <th></th>\n",
       "      <th>event</th>\n",
       "      <th>time</th>\n",
       "      <th>offer_id</th>\n",
       "      <th>amount</th>\n",
       "      <th>reward</th>\n",
       "      <th>gender</th>\n",
       "      <th>income</th>\n",
       "    </tr>\n",
       "  </thead>\n",
       "  <tbody>\n",
       "    <tr>\n",
       "      <th>0</th>\n",
       "      <td>2</td>\n",
       "      <td>0</td>\n",
       "      <td>7</td>\n",
       "      <td>0</td>\n",
       "      <td>0</td>\n",
       "      <td>1</td>\n",
       "      <td>100000.000000</td>\n",
       "    </tr>\n",
       "    <tr>\n",
       "      <th>1</th>\n",
       "      <td>2</td>\n",
       "      <td>0</td>\n",
       "      <td>1</td>\n",
       "      <td>0</td>\n",
       "      <td>0</td>\n",
       "      <td>3</td>\n",
       "      <td>65404.991568</td>\n",
       "    </tr>\n",
       "    <tr>\n",
       "      <th>2</th>\n",
       "      <td>2</td>\n",
       "      <td>0</td>\n",
       "      <td>3</td>\n",
       "      <td>0</td>\n",
       "      <td>0</td>\n",
       "      <td>2</td>\n",
       "      <td>70000.000000</td>\n",
       "    </tr>\n",
       "  </tbody>\n",
       "</table>\n",
       "</div>"
      ],
      "text/plain": [
       "   event  time  offer_id  amount  reward  gender         income\n",
       "0      2     0         7       0       0       1  100000.000000\n",
       "1      2     0         1       0       0       3   65404.991568\n",
       "2      2     0         3       0       0       2   70000.000000"
      ]
     },
     "execution_count": 78,
     "metadata": {},
     "output_type": "execute_result"
    }
   ],
   "source": [
    "# Print a three first rows of features_final\n",
    "features_final.head(3)"
   ]
  },
  {
   "cell_type": "markdown",
   "metadata": {},
   "source": [
    "### Normalizing Numerical Features"
   ]
  },
  {
   "cell_type": "code",
   "execution_count": 79,
   "metadata": {},
   "outputs": [
    {
     "data": {
      "text/html": [
       "<div>\n",
       "<style scoped>\n",
       "    .dataframe tbody tr th:only-of-type {\n",
       "        vertical-align: middle;\n",
       "    }\n",
       "\n",
       "    .dataframe tbody tr th {\n",
       "        vertical-align: top;\n",
       "    }\n",
       "\n",
       "    .dataframe thead th {\n",
       "        text-align: right;\n",
       "    }\n",
       "</style>\n",
       "<table border=\"1\" class=\"dataframe\">\n",
       "  <thead>\n",
       "    <tr style=\"text-align: right;\">\n",
       "      <th></th>\n",
       "      <th>event</th>\n",
       "      <th>time</th>\n",
       "      <th>offer_id</th>\n",
       "      <th>amount</th>\n",
       "      <th>reward</th>\n",
       "      <th>gender</th>\n",
       "      <th>income</th>\n",
       "    </tr>\n",
       "  </thead>\n",
       "  <tbody>\n",
       "    <tr>\n",
       "      <th>0</th>\n",
       "      <td>2</td>\n",
       "      <td>0.0</td>\n",
       "      <td>7</td>\n",
       "      <td>0.0</td>\n",
       "      <td>0.0</td>\n",
       "      <td>1</td>\n",
       "      <td>0.777778</td>\n",
       "    </tr>\n",
       "    <tr>\n",
       "      <th>1</th>\n",
       "      <td>2</td>\n",
       "      <td>0.0</td>\n",
       "      <td>1</td>\n",
       "      <td>0.0</td>\n",
       "      <td>0.0</td>\n",
       "      <td>3</td>\n",
       "      <td>0.393389</td>\n",
       "    </tr>\n",
       "    <tr>\n",
       "      <th>2</th>\n",
       "      <td>2</td>\n",
       "      <td>0.0</td>\n",
       "      <td>3</td>\n",
       "      <td>0.0</td>\n",
       "      <td>0.0</td>\n",
       "      <td>2</td>\n",
       "      <td>0.444444</td>\n",
       "    </tr>\n",
       "    <tr>\n",
       "      <th>3</th>\n",
       "      <td>2</td>\n",
       "      <td>0.0</td>\n",
       "      <td>10</td>\n",
       "      <td>0.0</td>\n",
       "      <td>0.0</td>\n",
       "      <td>3</td>\n",
       "      <td>0.393389</td>\n",
       "    </tr>\n",
       "    <tr>\n",
       "      <th>4</th>\n",
       "      <td>2</td>\n",
       "      <td>0.0</td>\n",
       "      <td>5</td>\n",
       "      <td>0.0</td>\n",
       "      <td>0.0</td>\n",
       "      <td>3</td>\n",
       "      <td>0.393389</td>\n",
       "    </tr>\n",
       "  </tbody>\n",
       "</table>\n",
       "</div>"
      ],
      "text/plain": [
       "   event  time  offer_id  amount  reward  gender    income\n",
       "0      2   0.0         7     0.0     0.0       1  0.777778\n",
       "1      2   0.0         1     0.0     0.0       3  0.393389\n",
       "2      2   0.0         3     0.0     0.0       2  0.444444\n",
       "3      2   0.0        10     0.0     0.0       3  0.393389\n",
       "4      2   0.0         5     0.0     0.0       3  0.393389"
      ]
     },
     "metadata": {},
     "output_type": "display_data"
    }
   ],
   "source": [
    "# Import sklearn.preprocessing.StandardScaler\n",
    "from sklearn.preprocessing import MinMaxScaler\n",
    "\n",
    "# Initialize a scaler, then apply it to the features\n",
    "scaler = MinMaxScaler() # default=(0, 1)\n",
    "numerical = ['time', 'amount', 'reward', 'income']\n",
    "\n",
    "features_final[numerical] = scaler.fit_transform(features_final[numerical])\n",
    "\n",
    "# Show an example of a record with scaling applied\n",
    "display(features_final.head(n = 5))"
   ]
  },
  {
   "cell_type": "markdown",
   "metadata": {},
   "source": [
    "### Split Data"
   ]
  },
  {
   "cell_type": "code",
   "execution_count": 81,
   "metadata": {},
   "outputs": [
    {
     "name": "stdout",
     "output_type": "stream",
     "text": [
      "Training set has 134064 samples.\n",
      "Testing set has 33517 samples.\n"
     ]
    }
   ],
   "source": [
    "# Import train_test_split\n",
    "from sklearn.cross_validation import train_test_split\n",
    "\n",
    "# Split the 'features' and 'target' data into training and testing sets\n",
    "X_train, X_test, y_train, y_test = train_test_split(features_final, \n",
    "                                                    target, \n",
    "                                                    test_size = 0.2, \n",
    "                                                    random_state = 0)\n",
    "\n",
    "# Show the results of the split\n",
    "print(\"Training set has {} samples.\".format(X_train.shape[0]))\n",
    "print(\"Testing set has {} samples.\".format(X_test.shape[0]))"
   ]
  },
  {
   "cell_type": "markdown",
   "metadata": {},
   "source": [
    "### Metrics\n",
    "I will calculate the accuracy metrics for some of the models on the training and testing datasets and improve the best one. I selected accuracy due to the target variable classes in the data are tied and I would like to find the ratio of the total number of predictions that were correct. Then, I will evaluat this metric on some models are Support Vector Machines (SVC), Random Forest Classifier, Naive Bayes and Logistic Regression."
   ]
  },
  {
   "cell_type": "code",
   "execution_count": 102,
   "metadata": {},
   "outputs": [],
   "source": [
    "# reference: https://towardsdatascience.com/random-forest-in-python-24d0893d51c0\n",
    "# Create a function in which predict the model and returns the accuracy\n",
    "def pred_score(model):\n",
    "    pred = model.predict(X_test)\n",
    "    \n",
    "    # Count errors\n",
    "    errors = abs(pred - y_test)\n",
    "    \n",
    "    # Count mean percentage error\n",
    "    mpe = 100 * (errors / y_test)\n",
    "    accuracy = 100 - np.mean(mpe)\n",
    "    return round(accuracy, 2)"
   ]
  },
  {
   "cell_type": "markdown",
   "metadata": {},
   "source": [
    "#### Support Vector Machines (SVC)"
   ]
  },
  {
   "cell_type": "code",
   "execution_count": 103,
   "metadata": {},
   "outputs": [
    {
     "name": "stdout",
     "output_type": "stream",
     "text": [
      "The Accuracy of SVC Classifier on Training Set: 100.0%.\n",
      "The Prediction Accuracy: 100.0%\n"
     ]
    }
   ],
   "source": [
    "# Import the supervised learning model (SVC) from sklearn\n",
    "from sklearn.svm import SVC\n",
    "\n",
    "# Initialize the model\n",
    "svm = SVC()\n",
    "\n",
    "# Fit the model\n",
    "svm.fit(X_train, y_train)\n",
    "\n",
    "print(f'The Accuracy of SVC Classifier on Training Set: {round(svm.score(X_train, y_train)*100,2)}%.')\n",
    "print(f'The Prediction Accuracy: {pred_score(svm)}%')"
   ]
  },
  {
   "cell_type": "markdown",
   "metadata": {},
   "source": [
    "#### Random Forest Classifier"
   ]
  },
  {
   "cell_type": "code",
   "execution_count": 104,
   "metadata": {},
   "outputs": [
    {
     "name": "stdout",
     "output_type": "stream",
     "text": [
      "The Accuracy of Random Forest Classifier on Training Set: 100.0%.\n",
      "The Prediction Accuracy: 100.0%\n"
     ]
    }
   ],
   "source": [
    "# Import the supervised learning model RandomForestClassifier from sklearn\n",
    "from sklearn.ensemble import RandomForestClassifier\n",
    "\n",
    "# Initialize the model\n",
    "rf = RandomForestClassifier().fit(X_train, y_train)\n",
    "\n",
    "# Fit the model\n",
    "rf.fit(X_train, y_train)\n",
    "\n",
    "print(f'The Accuracy of Random Forest Classifier on Training Set: {round(rf.score(X_train, y_train)*100,2)}%.')\n",
    "print(f'The Prediction Accuracy: {pred_score(rf)}%')"
   ]
  },
  {
   "cell_type": "markdown",
   "metadata": {},
   "source": [
    "#### Naive Bayes"
   ]
  },
  {
   "cell_type": "code",
   "execution_count": 105,
   "metadata": {},
   "outputs": [
    {
     "name": "stdout",
     "output_type": "stream",
     "text": [
      "The Accuracy of Naive Bayes Classifier on Training Set: 48.8%.\n",
      "The Prediction Accuracy: 25.37%\n"
     ]
    }
   ],
   "source": [
    "# Import the supervised learning model Naive Bayes from sklearn\n",
    "from sklearn.naive_bayes import GaussianNB \n",
    "\n",
    "# Initialize the model\n",
    "nb = GaussianNB() \n",
    "\n",
    "# Fit the model\n",
    "nb.fit(X_train, y_train) \n",
    "\n",
    "print(f'The Accuracy of Naive Bayes Classifier on Training Set: {round(nb.score(X_train, y_train)*100,2)}%.')\n",
    "print(f'The Prediction Accuracy: {pred_score(nb)}%')"
   ]
  },
  {
   "cell_type": "markdown",
   "metadata": {},
   "source": [
    "#### Logistic Regression"
   ]
  },
  {
   "cell_type": "code",
   "execution_count": 106,
   "metadata": {},
   "outputs": [
    {
     "name": "stdout",
     "output_type": "stream",
     "text": [
      "The Accuracy of Logistic Regression Classifier on Training Set: 65.45%.\n",
      "The Prediction Accuracy: 80.73%\n"
     ]
    }
   ],
   "source": [
    "# Import the supervised learning model Logistic Regression from sklearn\n",
    "from sklearn.linear_model import LogisticRegression\n",
    "\n",
    "# Initialize the model\n",
    "log_reg = LogisticRegression()\n",
    "\n",
    "# Fit the model\n",
    "log_reg.fit(X_train, y_train)\n",
    "\n",
    "print(f'The Accuracy of Logistic Regression Classifier on Training Set: {round(log_reg.score(X_train, y_train)*100,2)}%.')\n",
    "print(f'The Prediction Accuracy: {pred_score(log_reg)}%')"
   ]
  },
  {
   "cell_type": "markdown",
   "metadata": {},
   "source": [
    "### Implementation"
   ]
  },
  {
   "cell_type": "markdown",
   "metadata": {},
   "source": [
    "Before evaluating the accuracy metric, I made some processing on data to keep it ready to implement the metrics on it: I replaced the categorical value into a numerical value, selected the target (offer_type) and features, normalized the numerical features, split the data that I chose, Implemented the metric. I created a function which predicts the model and returns the accuracy that is the ratio of the total number of predictions that were correct. <br>\n",
    "\n",
    "I used three supervised learning models. They are Support Vector Machines (SVC), Random Forest Classifier, Naive Bayes and Logistic Regression. There are two models showed 100% of accuracy on the training set and testing set may due to over-fitting. They are Support Vector Machines and Random Forest Classifier. The Naive Bayes model showed the lowset of accuracy in the training set and on the testing set. The Logistic Regression showed a reasonable result which is 65.45% on the training set and 80.73% on the testing set. So, I prefer to choose this model and evaluate some of the parameters tom make improvement.<br>"
   ]
  },
  {
   "cell_type": "markdown",
   "metadata": {},
   "source": [
    "### Model Improvement"
   ]
  },
  {
   "cell_type": "code",
   "execution_count": 124,
   "metadata": {},
   "outputs": [
    {
     "name": "stdout",
     "output_type": "stream",
     "text": [
      "The Best Score: 0.6541278792218642\n",
      "The Best params: {'C': 1.0, 'dual': True, 'max_iter': 100}\n"
     ]
    }
   ],
   "source": [
    "# I will define new parameters to improve tht model\n",
    "# Create the parameters list to tune.\n",
    "dual = [True, False]\n",
    "max_iter = [100, 110]\n",
    "C = [1.0,1.5]\n",
    "param_grid = dict(dual = dual, max_iter = max_iter, C = C)\n",
    "\n",
    "# Initialize the classifier\n",
    "lr = LogisticRegression(penalty='l2')\n",
    "\n",
    "# Perform grid search on the classifier \n",
    "grid = GridSearchCV(estimator = lr, param_grid = param_grid, cv = 3, n_jobs = -1)\n",
    "\n",
    "# Fit the grid search object to the training data and find the optimal parameters using fit()\n",
    "grid_fit = grid.fit(X_train, y_train)\n",
    "\n",
    "\n",
    "print(f'The Best Score: {grid_fit.best_score_}')\n",
    "print(f'The Best params: {grid_fit.best_params_}')"
   ]
  },
  {
   "cell_type": "markdown",
   "metadata": {},
   "source": [
    "### Refinement"
   ]
  },
  {
   "cell_type": "markdown",
   "metadata": {},
   "source": [
    "As we see above, after I tried to improve the model by defined new parameters and using GridSearchCV, the best result was 0.65 and it looks good and a little same with the previous result."
   ]
  },
  {
   "cell_type": "markdown",
   "metadata": {},
   "source": [
    "# Conclusion"
   ]
  },
  {
   "cell_type": "markdown",
   "metadata": {},
   "source": [
    "Let's see the result of the analysis I did above, see the answers on the questions that I defined at the beginning and see how help to make a decision.<br>\n",
    "<br>\n",
    "* From the distribution of gender bar plot, the best-purchaser are male with 8484 then the female.<br>\n",
    "<br>\n",
    "* From the distribution of income box plot, the max number of income is 120000 and the mean is 65404.<br>\n",
    "<br>\n",
    "* From the distribution of income by gender box plot, the females' income means are 71306 and more than males which are 61194. Even though males purchasers are more than females.<br>\n",
    "<br>\n",
    "* From the number of customers in years bar plot, the most year contained the most number of the customer is 2017 with 6469. Then, the year of 2018 with 4198 customers. We can see the highest difference between the years was between 2016 and the year 2017. It is for 2943 customers. In 2018, the number of customers decreased to 4198 customers.<br>\n",
    "<br>\n",
    "* From the distribution of event bar plot, the most common event was the transaction. There was 138953 transaction. The least common event was offer completed. There was 33579 offer completed.<br>\n",
    "<br>\n",
    "* From the distribution of type offer bar plot, the most common offer type was BOGO with 71617 transcripts. Then, discount offer type with 69898 transcripts. The least common offer type was informational with 26066 transcripts.<br>\n",
    "<br>\n",
    "* From the type of completed offer bar plot, the most offer type was completed was a discount with 17910 customers. The least offer type was completed was a BOGO with 15669 customers.<br> \n",
    "<br>\n",
    "* From the distribution of gender by offer type bar plot, the male customers' ar higher in all offer type than females. The BOGO type offer is higher than a discount for each of males and females. Let's see:<br>\n",
    "<br>\n",
    "\n",
    "    * The **Female** Transcripts Number = 113101<br>\n",
    "    * The Proportion of BOGO Offers =  43.34%<br> \n",
    "    * The Proportion of Discount Offers = 41.83%<br> \n",
    "    * The Proportion of Informational Offers = 14.83%<br> \n",
    "---------------------- <br>\n",
    "\n",
    "    * The **Male** Transcripts Number = 155690<br>\n",
    "    * The Proportion of BOGO Offers =  42.58%<br> \n",
    "    * The Proportion of Discount Offers = 41.91%<br> \n",
    "    * The Proportion of Informational Offers = 15.51%<br>\n",
    "\n",
    "\n",
    "* From the distribution of gender by event bar plot, the male customers' ar higher in all event type than females. There are a little different in the offer completed event between males and females. Males who completed offer are a little higher than females. Let's see:<br>\n",
    "<br>\n",
    "\n",
    "    * The **Female** Transcripts Number = 113101<br>\n",
    "    * The Proportion of Offer Completed Type =  56.37% of Offers Received<br> \n",
    "    * The Proportion of Offer Received Type = 43.09% <br>\n",
    "    * The Proportion of Offer Viewed Type = 32.62% <br>\n",
    "    * The Proportion of Transaction Type = 77.5% <br>\n",
    "---------------------- <br>\n",
    "\n",
    "    * The **Male** Transcripts Number = 155690<br>\n",
    "    * The Proportion of Offer Completed Type =  43.18% of Offers Received <br>\n",
    "    * The Proportion of Offer Received Type = 46.0% <br>\n",
    "    * The Proportion of Offer Viewed Type = 34.14% <br>\n",
    "    * The Proportion of Transaction Type = 87.81% <br>\n",
    "<br>\n",
    "* I made some processing on data to keep it ready to implement the metrics on it: <br>\n",
    "    * I replace the categorical value into a numerical value. <br>\n",
    "    * select the target (offer_type) and features.<br>\n",
    "    * Normalize the numerical features.<br>\n",
    "    * split the data that I chose.<br>\n",
    "    * Implement the metrics.<br>\n",
    "<br>    \n",
    "* I used three supervised learning models. They are Support Vector Machines (SVC), Random Forest Classifier, Naive Bayes and Logistic Regression. There are two models showed 100% of accuracy on the training set and testing set may due to over-fitting. They are Support Vector Machines and Random Forest Classifier. The Naive Bayes model showed the lowset of accuracy in the training set and on the testing set. The Logistic Regression showed a reasonable result which is 65.45% on the training set and 80.73% on the testing set. So, I prefer to choose this model and evaluate some of the parameters tom make improvement.<br>\n",
    "<br>\n",
    "* I improved the model by defining some parameters and the result was very good and acceptable with 0.65 accuracies of the best score. \n",
    "    "
   ]
  },
  {
   "cell_type": "markdown",
   "metadata": {},
   "source": [
    "## Final Advice"
   ]
  },
  {
   "cell_type": "markdown",
   "metadata": {},
   "source": [
    "Based on the analysis above, there is a 13% difference between male and female who completed the offer of received offer and the females is higher than males. In addition, the favorite offer type for female (43.34%) and male (42.58%) is BOGO then Discount. So, I recommend Starbucks to provide offers for female due to the females' income mean are 71306 and more than males which are 61194. Even though males purchaser are more than females and the Proportion of transaction for males (87.81%) is higher than females (77.5%). Finally, I think may this decision will change if we have completed dataset and without have missing values.<br>"
   ]
  }
 ],
 "metadata": {
  "kernelspec": {
   "display_name": "Python 3",
   "language": "python",
   "name": "python3"
  },
  "language_info": {
   "codemirror_mode": {
    "name": "ipython",
    "version": 3
   },
   "file_extension": ".py",
   "mimetype": "text/x-python",
   "name": "python",
   "nbconvert_exporter": "python",
   "pygments_lexer": "ipython3",
   "version": "3.6.3"
  }
 },
 "nbformat": 4,
 "nbformat_minor": 2
}
